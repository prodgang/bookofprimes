{
 "cells": [
  {
   "cell_type": "markdown",
   "id": "06e9d597",
   "metadata": {},
   "source": [
    "# Productive Numbers\n",
    "What's your favorite prod?\n",
    "\n",
    "\n",
    "\n",
    "Set-up code (ignore)"
   ]
  },
  {
   "cell_type": "code",
   "execution_count": 1,
   "id": "135986a1",
   "metadata": {
    "tags": [
     "thebe-init",
     "hide-input",
     "hide-output"
    ]
   },
   "outputs": [
    {
     "name": "stdout",
     "output_type": "stream",
     "text": [
      "Requirement already satisfied: networkx in /opt/anaconda3/envs/jbook/lib/python3.13/site-packages (3.4.2)\r\n",
      "Requirement already satisfied: matplotlib in /opt/anaconda3/envs/jbook/lib/python3.13/site-packages (3.10.0)\r\n",
      "Requirement already satisfied: ipywidgets in /opt/anaconda3/envs/jbook/lib/python3.13/site-packages (8.1.5)\r\n",
      "Requirement already satisfied: contourpy>=1.0.1 in /opt/anaconda3/envs/jbook/lib/python3.13/site-packages (from matplotlib) (1.3.1)\r\n",
      "Requirement already satisfied: cycler>=0.10 in /opt/anaconda3/envs/jbook/lib/python3.13/site-packages (from matplotlib) (0.12.1)\r\n",
      "Requirement already satisfied: fonttools>=4.22.0 in /opt/anaconda3/envs/jbook/lib/python3.13/site-packages (from matplotlib) (4.55.8)\r\n"
     ]
    },
    {
     "name": "stdout",
     "output_type": "stream",
     "text": [
      "Requirement already satisfied: kiwisolver>=1.3.1 in /opt/anaconda3/envs/jbook/lib/python3.13/site-packages (from matplotlib) (1.4.8)\r\n",
      "Requirement already satisfied: numpy>=1.23 in /opt/anaconda3/envs/jbook/lib/python3.13/site-packages (from matplotlib) (2.2.2)\r\n",
      "Requirement already satisfied: packaging>=20.0 in /opt/anaconda3/envs/jbook/lib/python3.13/site-packages (from matplotlib) (24.2)\r\n",
      "Requirement already satisfied: pillow>=8 in /opt/anaconda3/envs/jbook/lib/python3.13/site-packages (from matplotlib) (11.1.0)\r\n",
      "Requirement already satisfied: pyparsing>=2.3.1 in /opt/anaconda3/envs/jbook/lib/python3.13/site-packages (from matplotlib) (3.2.1)\r\n",
      "Requirement already satisfied: python-dateutil>=2.7 in /opt/anaconda3/envs/jbook/lib/python3.13/site-packages (from matplotlib) (2.9.0.post0)\r\n",
      "Requirement already satisfied: comm>=0.1.3 in /opt/anaconda3/envs/jbook/lib/python3.13/site-packages (from ipywidgets) (0.2.2)\r\n",
      "Requirement already satisfied: ipython>=6.1.0 in /opt/anaconda3/envs/jbook/lib/python3.13/site-packages (from ipywidgets) (8.32.0)\r\n",
      "Requirement already satisfied: traitlets>=4.3.1 in /opt/anaconda3/envs/jbook/lib/python3.13/site-packages (from ipywidgets) (5.14.3)\r\n",
      "Requirement already satisfied: widgetsnbextension~=4.0.12 in /opt/anaconda3/envs/jbook/lib/python3.13/site-packages (from ipywidgets) (4.0.13)\r\n",
      "Requirement already satisfied: jupyterlab_widgets~=3.0.12 in /opt/anaconda3/envs/jbook/lib/python3.13/site-packages (from ipywidgets) (3.0.13)\r\n",
      "Requirement already satisfied: decorator in /opt/anaconda3/envs/jbook/lib/python3.13/site-packages (from ipython>=6.1.0->ipywidgets) (5.1.1)\r\n",
      "Requirement already satisfied: jedi>=0.16 in /opt/anaconda3/envs/jbook/lib/python3.13/site-packages (from ipython>=6.1.0->ipywidgets) (0.19.2)\r\n",
      "Requirement already satisfied: matplotlib-inline in /opt/anaconda3/envs/jbook/lib/python3.13/site-packages (from ipython>=6.1.0->ipywidgets) (0.1.7)\r\n",
      "Requirement already satisfied: pexpect>4.3 in /opt/anaconda3/envs/jbook/lib/python3.13/site-packages (from ipython>=6.1.0->ipywidgets) (4.9.0)\r\n",
      "Requirement already satisfied: prompt_toolkit<3.1.0,>=3.0.41 in /opt/anaconda3/envs/jbook/lib/python3.13/site-packages (from ipython>=6.1.0->ipywidgets) (3.0.50)\r\n",
      "Requirement already satisfied: pygments>=2.4.0 in /opt/anaconda3/envs/jbook/lib/python3.13/site-packages (from ipython>=6.1.0->ipywidgets) (2.19.1)\r\n",
      "Requirement already satisfied: stack_data in /opt/anaconda3/envs/jbook/lib/python3.13/site-packages (from ipython>=6.1.0->ipywidgets) (0.6.3)\r\n"
     ]
    },
    {
     "name": "stdout",
     "output_type": "stream",
     "text": [
      "Requirement already satisfied: six>=1.5 in /opt/anaconda3/envs/jbook/lib/python3.13/site-packages (from python-dateutil>=2.7->matplotlib) (1.17.0)\r\n",
      "Requirement already satisfied: parso<0.9.0,>=0.8.4 in /opt/anaconda3/envs/jbook/lib/python3.13/site-packages (from jedi>=0.16->ipython>=6.1.0->ipywidgets) (0.8.4)\r\n",
      "Requirement already satisfied: ptyprocess>=0.5 in /opt/anaconda3/envs/jbook/lib/python3.13/site-packages (from pexpect>4.3->ipython>=6.1.0->ipywidgets) (0.7.0)\r\n",
      "Requirement already satisfied: wcwidth in /opt/anaconda3/envs/jbook/lib/python3.13/site-packages (from prompt_toolkit<3.1.0,>=3.0.41->ipython>=6.1.0->ipywidgets) (0.2.13)\r\n",
      "Requirement already satisfied: executing>=1.2.0 in /opt/anaconda3/envs/jbook/lib/python3.13/site-packages (from stack_data->ipython>=6.1.0->ipywidgets) (2.1.0)\r\n",
      "Requirement already satisfied: asttokens>=2.1.0 in /opt/anaconda3/envs/jbook/lib/python3.13/site-packages (from stack_data->ipython>=6.1.0->ipywidgets) (3.0.0)\r\n"
     ]
    },
    {
     "name": "stdout",
     "output_type": "stream",
     "text": [
      "Requirement already satisfied: pure_eval in /opt/anaconda3/envs/jbook/lib/python3.13/site-packages (from stack_data->ipython>=6.1.0->ipywidgets) (0.2.3)\r\n"
     ]
    }
   ],
   "source": [
    "!pip install networkx matplotlib ipywidgets"
   ]
  },
  {
   "cell_type": "code",
   "execution_count": 2,
   "id": "95f92657",
   "metadata": {
    "tags": [
     "thebe-init",
     "hide-input"
    ]
   },
   "outputs": [],
   "source": [
    "import matplotlib.pyplot as plt\n",
    "import networkx as nx\n",
    "import sympy\n",
    "from sympy.ntheory import factorint\n",
    "primes = list(sympy.primerange(1, 100))\n",
    "\n",
    "def draw_white_dot(G, pos, ax=None):\n",
    "    node_label = len(G.nodes) + 1\n",
    "    G.add_node(0, pos=(pos[0], pos[1]))\n",
    "    nx.draw_networkx_nodes(G, {0:pos}, nodelist=[0], node_color='white', node_size=500, edgecolors='black', ax=ax)\n",
    "    return node_label\n",
    "\n",
    "def draw_black_dot(G, pos, ax=None):\n",
    "    node_label = len(G.nodes) + 1\n",
    "    G.add_node(node_label, pos=(pos[0], pos[1]))\n",
    "    nx.draw_networkx_nodes(G, {node_label:pos}, nodelist=[node_label], node_color='black', node_size=500, ax=ax)\n",
    "    return node_label\n",
    "\n",
    "def draw_tree(G, tree, pos=None, root_pos=(0, 0), ax=None):\n",
    "    if pos is None:\n",
    "        pos = {}\n",
    "    \n",
    "    if tree == 0:\n",
    "        label = draw_white_dot(G, root_pos, ax=ax)\n",
    "        pos[label] = root_pos\n",
    "        return label\n",
    "\n",
    "    n = len(tree)\n",
    "    root_pos = (root_pos[0] + n//2, root_pos[1])\n",
    "    root_label = draw_black_dot(G, root_pos,ax=ax)\n",
    "    pos[root_label] = root_pos\n",
    "    \n",
    "    for i, child in enumerate(tree):\n",
    "        j = i - n//2\n",
    "        child_label = draw_tree(G, child, pos=pos, root_pos=(root_pos[0] + j, root_pos[1]-1), ax=ax)\n",
    "        nx.draw_networkx_edges(G, pos, edgelist=[(root_label, child_label)],ax=ax)\n",
    "\n",
    "\n",
    "    return root_label\n",
    "\n",
    "def d_to_p(x):\n",
    "    if x == 0: return 0\n",
    "    if x == 1: return ()\n",
    "    \n",
    "    factors = factorint(x)\n",
    "    \n",
    "    # bit clunky. Could be improved if [] is infinitely long behind the scenes but always gets printed as short as possible\n",
    "    max_prime = max(factors.keys())\n",
    "    mp_index = primes.index(max_prime)\n",
    "    y = [0] * (mp_index + 1)\n",
    "    \n",
    "    # key recursive step\n",
    "    for p, e in factors.items():\n",
    "        i = primes.index(p)\n",
    "        y[i] = d_to_p(e)\n",
    "    \n",
    "    return tuple(y)\n",
    "\n",
    "def d2tree(x, ax=None):\n",
    "    G = nx.Graph()\n",
    "    draw_tree(G, d_to_p(x), ax=ax)\n",
    "\n"
   ]
  },
  {
   "cell_type": "code",
   "execution_count": 3,
   "id": "70a56ffc",
   "metadata": {
    "tags": [
     "thebe-init"
    ]
   },
   "outputs": [
    {
     "data": {
      "application/vnd.jupyter.widget-view+json": {
       "model_id": "1c28f23027ff4470874d9e86d399e674",
       "version_major": 2,
       "version_minor": 0
      },
      "text/plain": [
       "interactive(children=(IntSlider(value=5, description='n:', max=50, min=1), Output()), _dom_classes=('widget-in…"
      ]
     },
     "execution_count": 3,
     "metadata": {},
     "output_type": "execute_result"
    }
   ],
   "source": [
    "import ipywidgets as widgets\n",
    "from IPython.display import display\n",
    " \n",
    "def update_plot(n):\n",
    "    d2tree(n)\n",
    "\n",
    "slider = widgets.IntSlider(value=5, min=1, max=50, step=1, description=\"n:\")\n",
    "widgets.interactive(update_plot, n=slider)"
   ]
  },
  {
   "cell_type": "code",
   "execution_count": 4,
   "id": "7b9b341a",
   "metadata": {
    "tags": [
     "thebe-init"
    ]
   },
   "outputs": [
    {
     "data": {
      "application/vnd.jupyter.widget-view+json": {
       "model_id": "1ac578d932f545f8878433c757c5532a",
       "version_major": 2,
       "version_minor": 0
      },
      "text/plain": [
       "IntSlider(value=0)"
      ]
     },
     "execution_count": 4,
     "metadata": {},
     "output_type": "execute_result"
    }
   ],
   "source": [
    "import ipywidgets as widgets\n",
    "widgets.IntSlider()"
   ]
  }
 ],
 "metadata": {
  "jupytext": {
   "text_representation": {
    "extension": ".md",
    "format_name": "myst"
   }
  },
  "kernelspec": {
   "display_name": "Python 3",
   "language": "python",
   "name": "python3"
  },
  "language_info": {
   "codemirror_mode": {
    "name": "ipython",
    "version": 3
   },
   "file_extension": ".py",
   "mimetype": "text/x-python",
   "name": "python",
   "nbconvert_exporter": "python",
   "pygments_lexer": "ipython3",
   "version": "3.13.1"
  },
  "source_map": [
   10,
   20,
   25,
   94,
   107
  ],
  "widgets": {
   "application/vnd.jupyter.widget-state+json": {
    "state": {
     "18b7c52766fc4fd59b79ce3673696e5e": {
      "model_module": "@jupyter-widgets/base",
      "model_module_version": "2.0.0",
      "model_name": "LayoutModel",
      "state": {
       "_model_module": "@jupyter-widgets/base",
       "_model_module_version": "2.0.0",
       "_model_name": "LayoutModel",
       "_view_count": null,
       "_view_module": "@jupyter-widgets/base",
       "_view_module_version": "2.0.0",
       "_view_name": "LayoutView",
       "align_content": null,
       "align_items": null,
       "align_self": null,
       "border_bottom": null,
       "border_left": null,
       "border_right": null,
       "border_top": null,
       "bottom": null,
       "display": null,
       "flex": null,
       "flex_flow": null,
       "grid_area": null,
       "grid_auto_columns": null,
       "grid_auto_flow": null,
       "grid_auto_rows": null,
       "grid_column": null,
       "grid_gap": null,
       "grid_row": null,
       "grid_template_areas": null,
       "grid_template_columns": null,
       "grid_template_rows": null,
       "height": null,
       "justify_content": null,
       "justify_items": null,
       "left": null,
       "margin": null,
       "max_height": null,
       "max_width": null,
       "min_height": null,
       "min_width": null,
       "object_fit": null,
       "object_position": null,
       "order": null,
       "overflow": null,
       "padding": null,
       "right": null,
       "top": null,
       "visibility": null,
       "width": null
      }
     },
     "1ac578d932f545f8878433c757c5532a": {
      "model_module": "@jupyter-widgets/controls",
      "model_module_version": "2.0.0",
      "model_name": "IntSliderModel",
      "state": {
       "_dom_classes": [],
       "_model_module": "@jupyter-widgets/controls",
       "_model_module_version": "2.0.0",
       "_model_name": "IntSliderModel",
       "_view_count": null,
       "_view_module": "@jupyter-widgets/controls",
       "_view_module_version": "2.0.0",
       "_view_name": "IntSliderView",
       "behavior": "drag-tap",
       "continuous_update": true,
       "description": "",
       "description_allow_html": false,
       "disabled": false,
       "layout": "IPY_MODEL_18b7c52766fc4fd59b79ce3673696e5e",
       "max": 100,
       "min": 0,
       "orientation": "horizontal",
       "readout": true,
       "readout_format": "d",
       "step": 1,
       "style": "IPY_MODEL_1de9e205030c4886b1b43e7392d017db",
       "tabbable": null,
       "tooltip": null,
       "value": 0
      }
     },
     "1c28f23027ff4470874d9e86d399e674": {
      "model_module": "@jupyter-widgets/controls",
      "model_module_version": "2.0.0",
      "model_name": "VBoxModel",
      "state": {
       "_dom_classes": [
        "widget-interact"
       ],
       "_model_module": "@jupyter-widgets/controls",
       "_model_module_version": "2.0.0",
       "_model_name": "VBoxModel",
       "_view_count": null,
       "_view_module": "@jupyter-widgets/controls",
       "_view_module_version": "2.0.0",
       "_view_name": "VBoxView",
       "box_style": "",
       "children": [
        "IPY_MODEL_71d8a4ed4b0d40d6b90bda0c42be142d",
        "IPY_MODEL_84d0ae2180ed44a1b92d720b3073790d"
       ],
       "layout": "IPY_MODEL_9ee84a743b2e41d5a96ddc44aec78365",
       "tabbable": null,
       "tooltip": null
      }
     },
     "1de9e205030c4886b1b43e7392d017db": {
      "model_module": "@jupyter-widgets/controls",
      "model_module_version": "2.0.0",
      "model_name": "SliderStyleModel",
      "state": {
       "_model_module": "@jupyter-widgets/controls",
       "_model_module_version": "2.0.0",
       "_model_name": "SliderStyleModel",
       "_view_count": null,
       "_view_module": "@jupyter-widgets/base",
       "_view_module_version": "2.0.0",
       "_view_name": "StyleView",
       "description_width": "",
       "handle_color": null
      }
     },
     "71d8a4ed4b0d40d6b90bda0c42be142d": {
      "model_module": "@jupyter-widgets/controls",
      "model_module_version": "2.0.0",
      "model_name": "IntSliderModel",
      "state": {
       "_dom_classes": [],
       "_model_module": "@jupyter-widgets/controls",
       "_model_module_version": "2.0.0",
       "_model_name": "IntSliderModel",
       "_view_count": null,
       "_view_module": "@jupyter-widgets/controls",
       "_view_module_version": "2.0.0",
       "_view_name": "IntSliderView",
       "behavior": "drag-tap",
       "continuous_update": true,
       "description": "n:",
       "description_allow_html": false,
       "disabled": false,
       "layout": "IPY_MODEL_c6001900c60448a39377b721bba06120",
       "max": 50,
       "min": 1,
       "orientation": "horizontal",
       "readout": true,
       "readout_format": "d",
       "step": 1,
       "style": "IPY_MODEL_9d127c64a850475dadd56842d86fba14",
       "tabbable": null,
       "tooltip": null,
       "value": 5
      }
     },
     "72af71f4980547f1865778b709c60079": {
      "model_module": "@jupyter-widgets/base",
      "model_module_version": "2.0.0",
      "model_name": "LayoutModel",
      "state": {
       "_model_module": "@jupyter-widgets/base",
       "_model_module_version": "2.0.0",
       "_model_name": "LayoutModel",
       "_view_count": null,
       "_view_module": "@jupyter-widgets/base",
       "_view_module_version": "2.0.0",
       "_view_name": "LayoutView",
       "align_content": null,
       "align_items": null,
       "align_self": null,
       "border_bottom": null,
       "border_left": null,
       "border_right": null,
       "border_top": null,
       "bottom": null,
       "display": null,
       "flex": null,
       "flex_flow": null,
       "grid_area": null,
       "grid_auto_columns": null,
       "grid_auto_flow": null,
       "grid_auto_rows": null,
       "grid_column": null,
       "grid_gap": null,
       "grid_row": null,
       "grid_template_areas": null,
       "grid_template_columns": null,
       "grid_template_rows": null,
       "height": null,
       "justify_content": null,
       "justify_items": null,
       "left": null,
       "margin": null,
       "max_height": null,
       "max_width": null,
       "min_height": null,
       "min_width": null,
       "object_fit": null,
       "object_position": null,
       "order": null,
       "overflow": null,
       "padding": null,
       "right": null,
       "top": null,
       "visibility": null,
       "width": null
      }
     },
     "84d0ae2180ed44a1b92d720b3073790d": {
      "model_module": "@jupyter-widgets/output",
      "model_module_version": "1.0.0",
      "model_name": "OutputModel",
      "state": {
       "_dom_classes": [],
       "_model_module": "@jupyter-widgets/output",
       "_model_module_version": "1.0.0",
       "_model_name": "OutputModel",
       "_view_count": null,
       "_view_module": "@jupyter-widgets/output",
       "_view_module_version": "1.0.0",
       "_view_name": "OutputView",
       "layout": "IPY_MODEL_72af71f4980547f1865778b709c60079",
       "msg_id": "",
       "outputs": [
        {
         "data": {
          "image/png": "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",
          "text/plain": "<Figure size 640x480 with 1 Axes>"
         },
         "metadata": {},
         "output_type": "display_data"
        }
       ],
       "tabbable": null,
       "tooltip": null
      }
     },
     "9d127c64a850475dadd56842d86fba14": {
      "model_module": "@jupyter-widgets/controls",
      "model_module_version": "2.0.0",
      "model_name": "SliderStyleModel",
      "state": {
       "_model_module": "@jupyter-widgets/controls",
       "_model_module_version": "2.0.0",
       "_model_name": "SliderStyleModel",
       "_view_count": null,
       "_view_module": "@jupyter-widgets/base",
       "_view_module_version": "2.0.0",
       "_view_name": "StyleView",
       "description_width": "",
       "handle_color": null
      }
     },
     "9ee84a743b2e41d5a96ddc44aec78365": {
      "model_module": "@jupyter-widgets/base",
      "model_module_version": "2.0.0",
      "model_name": "LayoutModel",
      "state": {
       "_model_module": "@jupyter-widgets/base",
       "_model_module_version": "2.0.0",
       "_model_name": "LayoutModel",
       "_view_count": null,
       "_view_module": "@jupyter-widgets/base",
       "_view_module_version": "2.0.0",
       "_view_name": "LayoutView",
       "align_content": null,
       "align_items": null,
       "align_self": null,
       "border_bottom": null,
       "border_left": null,
       "border_right": null,
       "border_top": null,
       "bottom": null,
       "display": null,
       "flex": null,
       "flex_flow": null,
       "grid_area": null,
       "grid_auto_columns": null,
       "grid_auto_flow": null,
       "grid_auto_rows": null,
       "grid_column": null,
       "grid_gap": null,
       "grid_row": null,
       "grid_template_areas": null,
       "grid_template_columns": null,
       "grid_template_rows": null,
       "height": null,
       "justify_content": null,
       "justify_items": null,
       "left": null,
       "margin": null,
       "max_height": null,
       "max_width": null,
       "min_height": null,
       "min_width": null,
       "object_fit": null,
       "object_position": null,
       "order": null,
       "overflow": null,
       "padding": null,
       "right": null,
       "top": null,
       "visibility": null,
       "width": null
      }
     },
     "c6001900c60448a39377b721bba06120": {
      "model_module": "@jupyter-widgets/base",
      "model_module_version": "2.0.0",
      "model_name": "LayoutModel",
      "state": {
       "_model_module": "@jupyter-widgets/base",
       "_model_module_version": "2.0.0",
       "_model_name": "LayoutModel",
       "_view_count": null,
       "_view_module": "@jupyter-widgets/base",
       "_view_module_version": "2.0.0",
       "_view_name": "LayoutView",
       "align_content": null,
       "align_items": null,
       "align_self": null,
       "border_bottom": null,
       "border_left": null,
       "border_right": null,
       "border_top": null,
       "bottom": null,
       "display": null,
       "flex": null,
       "flex_flow": null,
       "grid_area": null,
       "grid_auto_columns": null,
       "grid_auto_flow": null,
       "grid_auto_rows": null,
       "grid_column": null,
       "grid_gap": null,
       "grid_row": null,
       "grid_template_areas": null,
       "grid_template_columns": null,
       "grid_template_rows": null,
       "height": null,
       "justify_content": null,
       "justify_items": null,
       "left": null,
       "margin": null,
       "max_height": null,
       "max_width": null,
       "min_height": null,
       "min_width": null,
       "object_fit": null,
       "object_position": null,
       "order": null,
       "overflow": null,
       "padding": null,
       "right": null,
       "top": null,
       "visibility": null,
       "width": null
      }
     }
    },
    "version_major": 2,
    "version_minor": 0
   }
  }
 },
 "nbformat": 4,
 "nbformat_minor": 5
}