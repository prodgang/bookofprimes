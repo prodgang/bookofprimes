{
 "cells": [
  {
   "cell_type": "markdown",
   "id": "e8dd7ed7",
   "metadata": {},
   "source": [
    "# Drawings\n",
    "\n",
    "Draw your favourite productive number! Navigate to {fa}`rocket` --> {guilabel}`Live Code`, wait for a minute and then drag the slider around."
   ]
  },
  {
   "cell_type": "code",
   "execution_count": 1,
   "id": "b1324f48",
   "metadata": {
    "tags": [
     "thebe-init",
     "hide-input",
     "hide-output"
    ]
   },
   "outputs": [
    {
     "name": "stdout",
     "output_type": "stream",
     "text": [
      "Requirement already satisfied: networkx in /opt/anaconda3/envs/jbook/lib/python3.13/site-packages (3.4.2)\r\n",
      "Requirement already satisfied: matplotlib in /opt/anaconda3/envs/jbook/lib/python3.13/site-packages (3.10.0)\r\n",
      "Requirement already satisfied: sympy in /opt/anaconda3/envs/jbook/lib/python3.13/site-packages (1.13.3)\r\n",
      "Requirement already satisfied: contourpy>=1.0.1 in /opt/anaconda3/envs/jbook/lib/python3.13/site-packages (from matplotlib) (1.3.1)\r\n",
      "Requirement already satisfied: cycler>=0.10 in /opt/anaconda3/envs/jbook/lib/python3.13/site-packages (from matplotlib) (0.12.1)\r\n",
      "Requirement already satisfied: fonttools>=4.22.0 in /opt/anaconda3/envs/jbook/lib/python3.13/site-packages (from matplotlib) (4.55.8)\r\n",
      "Requirement already satisfied: kiwisolver>=1.3.1 in /opt/anaconda3/envs/jbook/lib/python3.13/site-packages (from matplotlib) (1.4.8)\r\n",
      "Requirement already satisfied: numpy>=1.23 in /opt/anaconda3/envs/jbook/lib/python3.13/site-packages (from matplotlib) (2.2.2)\r\n",
      "Requirement already satisfied: packaging>=20.0 in /opt/anaconda3/envs/jbook/lib/python3.13/site-packages (from matplotlib) (24.2)\r\n",
      "Requirement already satisfied: pillow>=8 in /opt/anaconda3/envs/jbook/lib/python3.13/site-packages (from matplotlib) (11.1.0)\r\n",
      "Requirement already satisfied: pyparsing>=2.3.1 in /opt/anaconda3/envs/jbook/lib/python3.13/site-packages (from matplotlib) (3.2.1)\r\n",
      "Requirement already satisfied: python-dateutil>=2.7 in /opt/anaconda3/envs/jbook/lib/python3.13/site-packages (from matplotlib) (2.9.0.post0)\r\n",
      "Requirement already satisfied: mpmath<1.4,>=1.1.0 in /opt/anaconda3/envs/jbook/lib/python3.13/site-packages (from sympy) (1.3.0)\r\n"
     ]
    },
    {
     "name": "stdout",
     "output_type": "stream",
     "text": [
      "Requirement already satisfied: six>=1.5 in /opt/anaconda3/envs/jbook/lib/python3.13/site-packages (from python-dateutil>=2.7->matplotlib) (1.17.0)\r\n"
     ]
    },
    {
     "name": "stdout",
     "output_type": "stream",
     "text": [
      "Requirement already satisfied: ipywidgets==7.5.1 in /opt/anaconda3/envs/jbook/lib/python3.13/site-packages (7.5.1)\r\n",
      "Requirement already satisfied: ipython_genutils in /opt/anaconda3/envs/jbook/lib/python3.13/site-packages (0.2.0)\r\n",
      "Requirement already satisfied: ipykernel>=4.5.1 in /opt/anaconda3/envs/jbook/lib/python3.13/site-packages (from ipywidgets==7.5.1) (6.29.5)\r\n",
      "Requirement already satisfied: traitlets>=4.3.1 in /opt/anaconda3/envs/jbook/lib/python3.13/site-packages (from ipywidgets==7.5.1) (5.14.3)\r\n",
      "Requirement already satisfied: nbformat>=4.2.0 in /opt/anaconda3/envs/jbook/lib/python3.13/site-packages (from ipywidgets==7.5.1) (5.10.4)\r\n",
      "Requirement already satisfied: widgetsnbextension~=3.5.0 in /opt/anaconda3/envs/jbook/lib/python3.13/site-packages (from ipywidgets==7.5.1) (3.5.2)\r\n",
      "Requirement already satisfied: ipython>=4.0.0 in /opt/anaconda3/envs/jbook/lib/python3.13/site-packages (from ipywidgets==7.5.1) (8.32.0)\r\n"
     ]
    },
    {
     "name": "stdout",
     "output_type": "stream",
     "text": [
      "Requirement already satisfied: appnope in /opt/anaconda3/envs/jbook/lib/python3.13/site-packages (from ipykernel>=4.5.1->ipywidgets==7.5.1) (0.1.4)\r\n",
      "Requirement already satisfied: comm>=0.1.1 in /opt/anaconda3/envs/jbook/lib/python3.13/site-packages (from ipykernel>=4.5.1->ipywidgets==7.5.1) (0.2.2)\r\n",
      "Requirement already satisfied: debugpy>=1.6.5 in /opt/anaconda3/envs/jbook/lib/python3.13/site-packages (from ipykernel>=4.5.1->ipywidgets==7.5.1) (1.8.12)\r\n",
      "Requirement already satisfied: jupyter-client>=6.1.12 in /opt/anaconda3/envs/jbook/lib/python3.13/site-packages (from ipykernel>=4.5.1->ipywidgets==7.5.1) (8.6.3)\r\n",
      "Requirement already satisfied: jupyter-core!=5.0.*,>=4.12 in /opt/anaconda3/envs/jbook/lib/python3.13/site-packages (from ipykernel>=4.5.1->ipywidgets==7.5.1) (5.7.2)\r\n",
      "Requirement already satisfied: matplotlib-inline>=0.1 in /opt/anaconda3/envs/jbook/lib/python3.13/site-packages (from ipykernel>=4.5.1->ipywidgets==7.5.1) (0.1.7)\r\n",
      "Requirement already satisfied: nest-asyncio in /opt/anaconda3/envs/jbook/lib/python3.13/site-packages (from ipykernel>=4.5.1->ipywidgets==7.5.1) (1.6.0)\r\n",
      "Requirement already satisfied: packaging in /opt/anaconda3/envs/jbook/lib/python3.13/site-packages (from ipykernel>=4.5.1->ipywidgets==7.5.1) (24.2)\r\n",
      "Requirement already satisfied: psutil in /opt/anaconda3/envs/jbook/lib/python3.13/site-packages (from ipykernel>=4.5.1->ipywidgets==7.5.1) (6.1.1)\r\n",
      "Requirement already satisfied: pyzmq>=24 in /opt/anaconda3/envs/jbook/lib/python3.13/site-packages (from ipykernel>=4.5.1->ipywidgets==7.5.1) (26.2.1)\r\n",
      "Requirement already satisfied: tornado>=6.1 in /opt/anaconda3/envs/jbook/lib/python3.13/site-packages (from ipykernel>=4.5.1->ipywidgets==7.5.1) (6.4.2)\r\n",
      "Requirement already satisfied: decorator in /opt/anaconda3/envs/jbook/lib/python3.13/site-packages (from ipython>=4.0.0->ipywidgets==7.5.1) (5.1.1)\r\n",
      "Requirement already satisfied: jedi>=0.16 in /opt/anaconda3/envs/jbook/lib/python3.13/site-packages (from ipython>=4.0.0->ipywidgets==7.5.1) (0.19.2)\r\n",
      "Requirement already satisfied: pexpect>4.3 in /opt/anaconda3/envs/jbook/lib/python3.13/site-packages (from ipython>=4.0.0->ipywidgets==7.5.1) (4.9.0)\r\n",
      "Requirement already satisfied: prompt_toolkit<3.1.0,>=3.0.41 in /opt/anaconda3/envs/jbook/lib/python3.13/site-packages (from ipython>=4.0.0->ipywidgets==7.5.1) (3.0.50)\r\n",
      "Requirement already satisfied: pygments>=2.4.0 in /opt/anaconda3/envs/jbook/lib/python3.13/site-packages (from ipython>=4.0.0->ipywidgets==7.5.1) (2.19.1)\r\n",
      "Requirement already satisfied: stack_data in /opt/anaconda3/envs/jbook/lib/python3.13/site-packages (from ipython>=4.0.0->ipywidgets==7.5.1) (0.6.3)\r\n",
      "Requirement already satisfied: fastjsonschema>=2.15 in /opt/anaconda3/envs/jbook/lib/python3.13/site-packages (from nbformat>=4.2.0->ipywidgets==7.5.1) (2.21.1)\r\n",
      "Requirement already satisfied: jsonschema>=2.6 in /opt/anaconda3/envs/jbook/lib/python3.13/site-packages (from nbformat>=4.2.0->ipywidgets==7.5.1) (4.23.0)\r\n",
      "Requirement already satisfied: notebook>=4.4.1 in /opt/anaconda3/envs/jbook/lib/python3.13/site-packages (from widgetsnbextension~=3.5.0->ipywidgets==7.5.1) (7.3.2)\r\n",
      "Requirement already satisfied: parso<0.9.0,>=0.8.4 in /opt/anaconda3/envs/jbook/lib/python3.13/site-packages (from jedi>=0.16->ipython>=4.0.0->ipywidgets==7.5.1) (0.8.4)\r\n",
      "Requirement already satisfied: attrs>=22.2.0 in /opt/anaconda3/envs/jbook/lib/python3.13/site-packages (from jsonschema>=2.6->nbformat>=4.2.0->ipywidgets==7.5.1) (25.1.0)\r\n",
      "Requirement already satisfied: jsonschema-specifications>=2023.03.6 in /opt/anaconda3/envs/jbook/lib/python3.13/site-packages (from jsonschema>=2.6->nbformat>=4.2.0->ipywidgets==7.5.1) (2024.10.1)\r\n",
      "Requirement already satisfied: referencing>=0.28.4 in /opt/anaconda3/envs/jbook/lib/python3.13/site-packages (from jsonschema>=2.6->nbformat>=4.2.0->ipywidgets==7.5.1) (0.36.2)\r\n",
      "Requirement already satisfied: rpds-py>=0.7.1 in /opt/anaconda3/envs/jbook/lib/python3.13/site-packages (from jsonschema>=2.6->nbformat>=4.2.0->ipywidgets==7.5.1) (0.22.3)\r\n",
      "Requirement already satisfied: python-dateutil>=2.8.2 in /opt/anaconda3/envs/jbook/lib/python3.13/site-packages (from jupyter-client>=6.1.12->ipykernel>=4.5.1->ipywidgets==7.5.1) (2.9.0.post0)\r\n",
      "Requirement already satisfied: platformdirs>=2.5 in /opt/anaconda3/envs/jbook/lib/python3.13/site-packages (from jupyter-core!=5.0.*,>=4.12->ipykernel>=4.5.1->ipywidgets==7.5.1) (4.3.6)\r\n",
      "Requirement already satisfied: jupyter-server<3,>=2.4.0 in /opt/anaconda3/envs/jbook/lib/python3.13/site-packages (from notebook>=4.4.1->widgetsnbextension~=3.5.0->ipywidgets==7.5.1) (2.15.0)\r\n",
      "Requirement already satisfied: jupyterlab-server<3,>=2.27.1 in /opt/anaconda3/envs/jbook/lib/python3.13/site-packages (from notebook>=4.4.1->widgetsnbextension~=3.5.0->ipywidgets==7.5.1) (2.27.3)\r\n",
      "Requirement already satisfied: jupyterlab<4.4,>=4.3.4 in /opt/anaconda3/envs/jbook/lib/python3.13/site-packages (from notebook>=4.4.1->widgetsnbextension~=3.5.0->ipywidgets==7.5.1) (4.3.5)\r\n",
      "Requirement already satisfied: notebook-shim<0.3,>=0.2 in /opt/anaconda3/envs/jbook/lib/python3.13/site-packages (from notebook>=4.4.1->widgetsnbextension~=3.5.0->ipywidgets==7.5.1) (0.2.4)\r\n",
      "Requirement already satisfied: ptyprocess>=0.5 in /opt/anaconda3/envs/jbook/lib/python3.13/site-packages (from pexpect>4.3->ipython>=4.0.0->ipywidgets==7.5.1) (0.7.0)\r\n"
     ]
    },
    {
     "name": "stdout",
     "output_type": "stream",
     "text": [
      "Requirement already satisfied: wcwidth in /opt/anaconda3/envs/jbook/lib/python3.13/site-packages (from prompt_toolkit<3.1.0,>=3.0.41->ipython>=4.0.0->ipywidgets==7.5.1) (0.2.13)\r\n",
      "Requirement already satisfied: executing>=1.2.0 in /opt/anaconda3/envs/jbook/lib/python3.13/site-packages (from stack_data->ipython>=4.0.0->ipywidgets==7.5.1) (2.1.0)\r\n",
      "Requirement already satisfied: asttokens>=2.1.0 in /opt/anaconda3/envs/jbook/lib/python3.13/site-packages (from stack_data->ipython>=4.0.0->ipywidgets==7.5.1) (3.0.0)\r\n",
      "Requirement already satisfied: pure_eval in /opt/anaconda3/envs/jbook/lib/python3.13/site-packages (from stack_data->ipython>=4.0.0->ipywidgets==7.5.1) (0.2.3)\r\n",
      "Requirement already satisfied: anyio>=3.1.0 in /opt/anaconda3/envs/jbook/lib/python3.13/site-packages (from jupyter-server<3,>=2.4.0->notebook>=4.4.1->widgetsnbextension~=3.5.0->ipywidgets==7.5.1) (4.8.0)\r\n",
      "Requirement already satisfied: argon2-cffi>=21.1 in /opt/anaconda3/envs/jbook/lib/python3.13/site-packages (from jupyter-server<3,>=2.4.0->notebook>=4.4.1->widgetsnbextension~=3.5.0->ipywidgets==7.5.1) (23.1.0)\r\n",
      "Requirement already satisfied: jinja2>=3.0.3 in /opt/anaconda3/envs/jbook/lib/python3.13/site-packages (from jupyter-server<3,>=2.4.0->notebook>=4.4.1->widgetsnbextension~=3.5.0->ipywidgets==7.5.1) (3.1.5)\r\n",
      "Requirement already satisfied: jupyter-events>=0.11.0 in /opt/anaconda3/envs/jbook/lib/python3.13/site-packages (from jupyter-server<3,>=2.4.0->notebook>=4.4.1->widgetsnbextension~=3.5.0->ipywidgets==7.5.1) (0.12.0)\r\n",
      "Requirement already satisfied: jupyter-server-terminals>=0.4.4 in /opt/anaconda3/envs/jbook/lib/python3.13/site-packages (from jupyter-server<3,>=2.4.0->notebook>=4.4.1->widgetsnbextension~=3.5.0->ipywidgets==7.5.1) (0.5.3)\r\n",
      "Requirement already satisfied: nbconvert>=6.4.4 in /opt/anaconda3/envs/jbook/lib/python3.13/site-packages (from jupyter-server<3,>=2.4.0->notebook>=4.4.1->widgetsnbextension~=3.5.0->ipywidgets==7.5.1) (7.16.6)\r\n",
      "Requirement already satisfied: overrides>=5.0 in /opt/anaconda3/envs/jbook/lib/python3.13/site-packages (from jupyter-server<3,>=2.4.0->notebook>=4.4.1->widgetsnbextension~=3.5.0->ipywidgets==7.5.1) (7.7.0)\r\n",
      "Requirement already satisfied: prometheus-client>=0.9 in /opt/anaconda3/envs/jbook/lib/python3.13/site-packages (from jupyter-server<3,>=2.4.0->notebook>=4.4.1->widgetsnbextension~=3.5.0->ipywidgets==7.5.1) (0.21.1)\r\n",
      "Requirement already satisfied: send2trash>=1.8.2 in /opt/anaconda3/envs/jbook/lib/python3.13/site-packages (from jupyter-server<3,>=2.4.0->notebook>=4.4.1->widgetsnbextension~=3.5.0->ipywidgets==7.5.1) (1.8.3)\r\n",
      "Requirement already satisfied: terminado>=0.8.3 in /opt/anaconda3/envs/jbook/lib/python3.13/site-packages (from jupyter-server<3,>=2.4.0->notebook>=4.4.1->widgetsnbextension~=3.5.0->ipywidgets==7.5.1) (0.18.1)\r\n",
      "Requirement already satisfied: websocket-client>=1.7 in /opt/anaconda3/envs/jbook/lib/python3.13/site-packages (from jupyter-server<3,>=2.4.0->notebook>=4.4.1->widgetsnbextension~=3.5.0->ipywidgets==7.5.1) (1.8.0)\r\n",
      "Requirement already satisfied: async-lru>=1.0.0 in /opt/anaconda3/envs/jbook/lib/python3.13/site-packages (from jupyterlab<4.4,>=4.3.4->notebook>=4.4.1->widgetsnbextension~=3.5.0->ipywidgets==7.5.1) (2.0.4)\r\n",
      "Requirement already satisfied: httpx>=0.25.0 in /opt/anaconda3/envs/jbook/lib/python3.13/site-packages (from jupyterlab<4.4,>=4.3.4->notebook>=4.4.1->widgetsnbextension~=3.5.0->ipywidgets==7.5.1) (0.28.1)\r\n",
      "Requirement already satisfied: jupyter-lsp>=2.0.0 in /opt/anaconda3/envs/jbook/lib/python3.13/site-packages (from jupyterlab<4.4,>=4.3.4->notebook>=4.4.1->widgetsnbextension~=3.5.0->ipywidgets==7.5.1) (2.2.5)\r\n",
      "Requirement already satisfied: setuptools>=40.8.0 in /opt/anaconda3/envs/jbook/lib/python3.13/site-packages (from jupyterlab<4.4,>=4.3.4->notebook>=4.4.1->widgetsnbextension~=3.5.0->ipywidgets==7.5.1) (75.8.0)\r\n",
      "Requirement already satisfied: babel>=2.10 in /opt/anaconda3/envs/jbook/lib/python3.13/site-packages (from jupyterlab-server<3,>=2.27.1->notebook>=4.4.1->widgetsnbextension~=3.5.0->ipywidgets==7.5.1) (2.17.0)\r\n"
     ]
    },
    {
     "name": "stdout",
     "output_type": "stream",
     "text": [
      "Requirement already satisfied: json5>=0.9.0 in /opt/anaconda3/envs/jbook/lib/python3.13/site-packages (from jupyterlab-server<3,>=2.27.1->notebook>=4.4.1->widgetsnbextension~=3.5.0->ipywidgets==7.5.1) (0.10.0)\r\n",
      "Requirement already satisfied: requests>=2.31 in /opt/anaconda3/envs/jbook/lib/python3.13/site-packages (from jupyterlab-server<3,>=2.27.1->notebook>=4.4.1->widgetsnbextension~=3.5.0->ipywidgets==7.5.1) (2.32.3)\r\n",
      "Requirement already satisfied: six>=1.5 in /opt/anaconda3/envs/jbook/lib/python3.13/site-packages (from python-dateutil>=2.8.2->jupyter-client>=6.1.12->ipykernel>=4.5.1->ipywidgets==7.5.1) (1.17.0)\r\n",
      "Requirement already satisfied: idna>=2.8 in /opt/anaconda3/envs/jbook/lib/python3.13/site-packages (from anyio>=3.1.0->jupyter-server<3,>=2.4.0->notebook>=4.4.1->widgetsnbextension~=3.5.0->ipywidgets==7.5.1) (3.10)\r\n",
      "Requirement already satisfied: sniffio>=1.1 in /opt/anaconda3/envs/jbook/lib/python3.13/site-packages (from anyio>=3.1.0->jupyter-server<3,>=2.4.0->notebook>=4.4.1->widgetsnbextension~=3.5.0->ipywidgets==7.5.1) (1.3.1)\r\n",
      "Requirement already satisfied: argon2-cffi-bindings in /opt/anaconda3/envs/jbook/lib/python3.13/site-packages (from argon2-cffi>=21.1->jupyter-server<3,>=2.4.0->notebook>=4.4.1->widgetsnbextension~=3.5.0->ipywidgets==7.5.1) (21.2.0)\r\n",
      "Requirement already satisfied: certifi in /opt/anaconda3/envs/jbook/lib/python3.13/site-packages (from httpx>=0.25.0->jupyterlab<4.4,>=4.3.4->notebook>=4.4.1->widgetsnbextension~=3.5.0->ipywidgets==7.5.1) (2025.1.31)\r\n",
      "Requirement already satisfied: httpcore==1.* in /opt/anaconda3/envs/jbook/lib/python3.13/site-packages (from httpx>=0.25.0->jupyterlab<4.4,>=4.3.4->notebook>=4.4.1->widgetsnbextension~=3.5.0->ipywidgets==7.5.1) (1.0.7)\r\n",
      "Requirement already satisfied: h11<0.15,>=0.13 in /opt/anaconda3/envs/jbook/lib/python3.13/site-packages (from httpcore==1.*->httpx>=0.25.0->jupyterlab<4.4,>=4.3.4->notebook>=4.4.1->widgetsnbextension~=3.5.0->ipywidgets==7.5.1) (0.14.0)\r\n",
      "Requirement already satisfied: MarkupSafe>=2.0 in /opt/anaconda3/envs/jbook/lib/python3.13/site-packages (from jinja2>=3.0.3->jupyter-server<3,>=2.4.0->notebook>=4.4.1->widgetsnbextension~=3.5.0->ipywidgets==7.5.1) (3.0.2)\r\n",
      "Requirement already satisfied: python-json-logger>=2.0.4 in /opt/anaconda3/envs/jbook/lib/python3.13/site-packages (from jupyter-events>=0.11.0->jupyter-server<3,>=2.4.0->notebook>=4.4.1->widgetsnbextension~=3.5.0->ipywidgets==7.5.1) (3.2.1)\r\n",
      "Requirement already satisfied: pyyaml>=5.3 in /opt/anaconda3/envs/jbook/lib/python3.13/site-packages (from jupyter-events>=0.11.0->jupyter-server<3,>=2.4.0->notebook>=4.4.1->widgetsnbextension~=3.5.0->ipywidgets==7.5.1) (6.0.2)\r\n",
      "Requirement already satisfied: rfc3339-validator in /opt/anaconda3/envs/jbook/lib/python3.13/site-packages (from jupyter-events>=0.11.0->jupyter-server<3,>=2.4.0->notebook>=4.4.1->widgetsnbextension~=3.5.0->ipywidgets==7.5.1) (0.1.4)\r\n",
      "Requirement already satisfied: rfc3986-validator>=0.1.1 in /opt/anaconda3/envs/jbook/lib/python3.13/site-packages (from jupyter-events>=0.11.0->jupyter-server<3,>=2.4.0->notebook>=4.4.1->widgetsnbextension~=3.5.0->ipywidgets==7.5.1) (0.1.1)\r\n"
     ]
    },
    {
     "name": "stdout",
     "output_type": "stream",
     "text": [
      "Requirement already satisfied: beautifulsoup4 in /opt/anaconda3/envs/jbook/lib/python3.13/site-packages (from nbconvert>=6.4.4->jupyter-server<3,>=2.4.0->notebook>=4.4.1->widgetsnbextension~=3.5.0->ipywidgets==7.5.1) (4.13.1)\r\n",
      "Requirement already satisfied: bleach!=5.0.0 in /opt/anaconda3/envs/jbook/lib/python3.13/site-packages (from bleach[css]!=5.0.0->nbconvert>=6.4.4->jupyter-server<3,>=2.4.0->notebook>=4.4.1->widgetsnbextension~=3.5.0->ipywidgets==7.5.1) (6.2.0)\r\n",
      "Requirement already satisfied: defusedxml in /opt/anaconda3/envs/jbook/lib/python3.13/site-packages (from nbconvert>=6.4.4->jupyter-server<3,>=2.4.0->notebook>=4.4.1->widgetsnbextension~=3.5.0->ipywidgets==7.5.1) (0.7.1)\r\n",
      "Requirement already satisfied: jupyterlab-pygments in /opt/anaconda3/envs/jbook/lib/python3.13/site-packages (from nbconvert>=6.4.4->jupyter-server<3,>=2.4.0->notebook>=4.4.1->widgetsnbextension~=3.5.0->ipywidgets==7.5.1) (0.3.0)\r\n",
      "Requirement already satisfied: mistune<4,>=2.0.3 in /opt/anaconda3/envs/jbook/lib/python3.13/site-packages (from nbconvert>=6.4.4->jupyter-server<3,>=2.4.0->notebook>=4.4.1->widgetsnbextension~=3.5.0->ipywidgets==7.5.1) (3.1.1)\r\n",
      "Requirement already satisfied: nbclient>=0.5.0 in /opt/anaconda3/envs/jbook/lib/python3.13/site-packages (from nbconvert>=6.4.4->jupyter-server<3,>=2.4.0->notebook>=4.4.1->widgetsnbextension~=3.5.0->ipywidgets==7.5.1) (0.10.2)\r\n",
      "Requirement already satisfied: pandocfilters>=1.4.1 in /opt/anaconda3/envs/jbook/lib/python3.13/site-packages (from nbconvert>=6.4.4->jupyter-server<3,>=2.4.0->notebook>=4.4.1->widgetsnbextension~=3.5.0->ipywidgets==7.5.1) (1.5.1)\r\n",
      "Requirement already satisfied: charset-normalizer<4,>=2 in /opt/anaconda3/envs/jbook/lib/python3.13/site-packages (from requests>=2.31->jupyterlab-server<3,>=2.27.1->notebook>=4.4.1->widgetsnbextension~=3.5.0->ipywidgets==7.5.1) (3.4.1)\r\n",
      "Requirement already satisfied: urllib3<3,>=1.21.1 in /opt/anaconda3/envs/jbook/lib/python3.13/site-packages (from requests>=2.31->jupyterlab-server<3,>=2.27.1->notebook>=4.4.1->widgetsnbextension~=3.5.0->ipywidgets==7.5.1) (2.3.0)\r\n",
      "Requirement already satisfied: webencodings in /opt/anaconda3/envs/jbook/lib/python3.13/site-packages (from bleach!=5.0.0->bleach[css]!=5.0.0->nbconvert>=6.4.4->jupyter-server<3,>=2.4.0->notebook>=4.4.1->widgetsnbextension~=3.5.0->ipywidgets==7.5.1) (0.5.1)\r\n",
      "Requirement already satisfied: tinycss2<1.5,>=1.1.0 in /opt/anaconda3/envs/jbook/lib/python3.13/site-packages (from bleach[css]!=5.0.0->nbconvert>=6.4.4->jupyter-server<3,>=2.4.0->notebook>=4.4.1->widgetsnbextension~=3.5.0->ipywidgets==7.5.1) (1.4.0)\r\n"
     ]
    },
    {
     "name": "stdout",
     "output_type": "stream",
     "text": [
      "Requirement already satisfied: fqdn in /opt/anaconda3/envs/jbook/lib/python3.13/site-packages (from jsonschema[format-nongpl]>=4.18.0->jupyter-events>=0.11.0->jupyter-server<3,>=2.4.0->notebook>=4.4.1->widgetsnbextension~=3.5.0->ipywidgets==7.5.1) (1.5.1)\r\n",
      "Requirement already satisfied: isoduration in /opt/anaconda3/envs/jbook/lib/python3.13/site-packages (from jsonschema[format-nongpl]>=4.18.0->jupyter-events>=0.11.0->jupyter-server<3,>=2.4.0->notebook>=4.4.1->widgetsnbextension~=3.5.0->ipywidgets==7.5.1) (20.11.0)\r\n",
      "Requirement already satisfied: jsonpointer>1.13 in /opt/anaconda3/envs/jbook/lib/python3.13/site-packages (from jsonschema[format-nongpl]>=4.18.0->jupyter-events>=0.11.0->jupyter-server<3,>=2.4.0->notebook>=4.4.1->widgetsnbextension~=3.5.0->ipywidgets==7.5.1) (3.0.0)\r\n",
      "Requirement already satisfied: uri-template in /opt/anaconda3/envs/jbook/lib/python3.13/site-packages (from jsonschema[format-nongpl]>=4.18.0->jupyter-events>=0.11.0->jupyter-server<3,>=2.4.0->notebook>=4.4.1->widgetsnbextension~=3.5.0->ipywidgets==7.5.1) (1.3.0)\r\n",
      "Requirement already satisfied: webcolors>=24.6.0 in /opt/anaconda3/envs/jbook/lib/python3.13/site-packages (from jsonschema[format-nongpl]>=4.18.0->jupyter-events>=0.11.0->jupyter-server<3,>=2.4.0->notebook>=4.4.1->widgetsnbextension~=3.5.0->ipywidgets==7.5.1) (24.11.1)\r\n",
      "Requirement already satisfied: cffi>=1.0.1 in /opt/anaconda3/envs/jbook/lib/python3.13/site-packages (from argon2-cffi-bindings->argon2-cffi>=21.1->jupyter-server<3,>=2.4.0->notebook>=4.4.1->widgetsnbextension~=3.5.0->ipywidgets==7.5.1) (1.17.1)\r\n",
      "Requirement already satisfied: soupsieve>1.2 in /opt/anaconda3/envs/jbook/lib/python3.13/site-packages (from beautifulsoup4->nbconvert>=6.4.4->jupyter-server<3,>=2.4.0->notebook>=4.4.1->widgetsnbextension~=3.5.0->ipywidgets==7.5.1) (2.6)\r\n",
      "Requirement already satisfied: typing-extensions>=4.0.0 in /opt/anaconda3/envs/jbook/lib/python3.13/site-packages (from beautifulsoup4->nbconvert>=6.4.4->jupyter-server<3,>=2.4.0->notebook>=4.4.1->widgetsnbextension~=3.5.0->ipywidgets==7.5.1) (4.12.2)\r\n",
      "Requirement already satisfied: pycparser in /opt/anaconda3/envs/jbook/lib/python3.13/site-packages (from cffi>=1.0.1->argon2-cffi-bindings->argon2-cffi>=21.1->jupyter-server<3,>=2.4.0->notebook>=4.4.1->widgetsnbextension~=3.5.0->ipywidgets==7.5.1) (2.22)\r\n"
     ]
    },
    {
     "name": "stdout",
     "output_type": "stream",
     "text": [
      "Requirement already satisfied: arrow>=0.15.0 in /opt/anaconda3/envs/jbook/lib/python3.13/site-packages (from isoduration->jsonschema[format-nongpl]>=4.18.0->jupyter-events>=0.11.0->jupyter-server<3,>=2.4.0->notebook>=4.4.1->widgetsnbextension~=3.5.0->ipywidgets==7.5.1) (1.3.0)\r\n",
      "Requirement already satisfied: types-python-dateutil>=2.8.10 in /opt/anaconda3/envs/jbook/lib/python3.13/site-packages (from arrow>=0.15.0->isoduration->jsonschema[format-nongpl]>=4.18.0->jupyter-events>=0.11.0->jupyter-server<3,>=2.4.0->notebook>=4.4.1->widgetsnbextension~=3.5.0->ipywidgets==7.5.1) (2.9.0.20241206)\r\n"
     ]
    }
   ],
   "source": [
    "!pip install networkx matplotlib sympy \n",
    "! pip install ipywidgets==7.5.1 ipython_genutils"
   ]
  },
  {
   "cell_type": "code",
   "execution_count": 2,
   "id": "7b062f90",
   "metadata": {
    "tags": [
     "thebe-init",
     "hide-input"
    ]
   },
   "outputs": [],
   "source": [
    "import matplotlib.pyplot as plt\n",
    "import networkx as nx\n",
    "import ipywidgets as widgets\n",
    "import matplotlib.pyplot as plt\n",
    "from IPython.display import display, clear_output\n",
    "import sympy\n",
    "from sympy.ntheory import factorint\n",
    "primes = list(sympy.primerange(1, 100))\n",
    "\n",
    "def draw_white_dot(G, pos, ax=None):\n",
    "    node_label = len(G.nodes) + 1\n",
    "    G.add_node(0, pos=(pos[0], pos[1]))\n",
    "    nx.draw_networkx_nodes(G, {0:pos}, nodelist=[0], node_color='white', node_size=500, edgecolors='black', ax=ax)\n",
    "    return node_label\n",
    "\n",
    "def draw_black_dot(G, pos, ax=None):\n",
    "    node_label = len(G.nodes) + 1\n",
    "    G.add_node(node_label, pos=(pos[0], pos[1]))\n",
    "    nx.draw_networkx_nodes(G, {node_label:pos}, nodelist=[node_label], node_color='black', node_size=500, ax=ax)\n",
    "    return node_label\n",
    "\n",
    "def draw_tree(G, tree, pos=None, root_pos=(0, 0), ax=None):\n",
    "    if pos is None:\n",
    "        pos = {}\n",
    "    \n",
    "    if tree == 0:\n",
    "        label = draw_white_dot(G, root_pos, ax=ax)\n",
    "        pos[label] = root_pos\n",
    "        return label\n",
    "\n",
    "    n = len(tree)\n",
    "    root_pos = (root_pos[0] + n/2, root_pos[1])\n",
    "    root_label = draw_black_dot(G, root_pos,ax=ax)\n",
    "    pos[root_label] = root_pos\n",
    "    \n",
    "    for i, child in enumerate(tree):\n",
    "        j = (i - (n - 1) / 2) * 2\n",
    "        child_label = draw_tree(G, child, pos=pos, root_pos=(root_pos[0] + j, root_pos[1]-1), ax=ax)\n",
    "        nx.draw_networkx_edges(G, pos, edgelist=[(root_label, child_label)],ax=ax)\n",
    "\n",
    "\n",
    "    return root_label\n",
    "\n",
    "def d_to_p(x):\n",
    "    if x == 0: return 0\n",
    "    if x == 1: return ()\n",
    "    \n",
    "    factors = factorint(x)\n",
    "    \n",
    "    # bit clunky. Could be improved if [] is infinitely long behind the scenes but always gets printed as short as possible\n",
    "    max_prime = max(factors.keys())\n",
    "    mp_index = primes.index(max_prime)\n",
    "    y = [0] * (mp_index + 1)\n",
    "    \n",
    "    # key recursive step\n",
    "    for p, e in factors.items():\n",
    "        i = primes.index(p)\n",
    "        y[i] = d_to_p(e)\n",
    "    \n",
    "    return tuple(y)\n",
    "\n",
    "def d2tree(x, ax=None):\n",
    "    G = nx.Graph()\n",
    "    draw_tree(G, d_to_p(x), ax=ax)\n",
    "\n",
    "def update_plot(n):\n",
    "    #print(\"updated to \", n)\n",
    "    \n",
    "    clear_output(wait=True)\n",
    "\n",
    "    fig, ax = plt.subplots(figsize=(5, 5))\n",
    "    d2tree(n, ax=ax)\n",
    "    plt.show()"
   ]
  },
  {
   "cell_type": "code",
   "execution_count": 3,
   "id": "d72e22bf",
   "metadata": {
    "tags": [
     "thebe-init"
    ]
   },
   "outputs": [
    {
     "data": {
      "application/vnd.jupyter.widget-view+json": {
       "model_id": "d2d705f6428f482ea4b6cff70e703cc7",
       "version_major": 2,
       "version_minor": 0
      },
      "text/plain": [
       "interactive(children=(IntSlider(value=1, description='n:', max=70, min=1), Output()), _dom_classes=('widget-in…"
      ]
     },
     "metadata": {},
     "output_type": "display_data"
    }
   ],
   "source": [
    "slider = widgets.IntSlider(value=1, min=1, max=70, step=1, description=\"n:\")\n",
    "display(widgets.interactive(update_plot, n=slider))"
   ]
  }
 ],
 "metadata": {
  "jupytext": {
   "text_representation": {
    "extension": ".md",
    "format_name": "myst"
   }
  },
  "kernelspec": {
   "display_name": "Python 3",
   "language": "python",
   "name": "python3"
  },
  "language_info": {
   "codemirror_mode": {
    "name": "ipython",
    "version": 3
   },
   "file_extension": ".py",
   "mimetype": "text/x-python",
   "name": "python",
   "nbconvert_exporter": "python",
   "pygments_lexer": "ipython3",
   "version": "3.13.1"
  },
  "source_map": [
   10,
   19,
   25,
   104
  ],
  "widgets": {
   "application/vnd.jupyter.widget-state+json": {
    "state": {
     "2e924173e4914f739590cfcf7f2e067c": {
      "model_module": "@jupyter-widgets/controls",
      "model_module_version": "1.5.0",
      "model_name": "SliderStyleModel",
      "state": {
       "_model_module": "@jupyter-widgets/controls",
       "_model_module_version": "1.5.0",
       "_model_name": "SliderStyleModel",
       "_view_count": null,
       "_view_module": "@jupyter-widgets/base",
       "_view_module_version": "1.2.0",
       "_view_name": "StyleView",
       "description_width": "",
       "handle_color": null
      }
     },
     "38243ff30f6d4f54a8178ac1695225aa": {
      "model_module": "@jupyter-widgets/base",
      "model_module_version": "1.2.0",
      "model_name": "LayoutModel",
      "state": {
       "_model_module": "@jupyter-widgets/base",
       "_model_module_version": "1.2.0",
       "_model_name": "LayoutModel",
       "_view_count": null,
       "_view_module": "@jupyter-widgets/base",
       "_view_module_version": "1.2.0",
       "_view_name": "LayoutView",
       "align_content": null,
       "align_items": null,
       "align_self": null,
       "border": null,
       "bottom": null,
       "display": null,
       "flex": null,
       "flex_flow": null,
       "grid_area": null,
       "grid_auto_columns": null,
       "grid_auto_flow": null,
       "grid_auto_rows": null,
       "grid_column": null,
       "grid_gap": null,
       "grid_row": null,
       "grid_template_areas": null,
       "grid_template_columns": null,
       "grid_template_rows": null,
       "height": null,
       "justify_content": null,
       "justify_items": null,
       "left": null,
       "margin": null,
       "max_height": null,
       "max_width": null,
       "min_height": null,
       "min_width": null,
       "object_fit": null,
       "object_position": null,
       "order": null,
       "overflow": null,
       "overflow_x": null,
       "overflow_y": null,
       "padding": null,
       "right": null,
       "top": null,
       "visibility": null,
       "width": null
      }
     },
     "7c2f064e44054de596d87994d0cd82d2": {
      "model_module": "@jupyter-widgets/base",
      "model_module_version": "1.2.0",
      "model_name": "LayoutModel",
      "state": {
       "_model_module": "@jupyter-widgets/base",
       "_model_module_version": "1.2.0",
       "_model_name": "LayoutModel",
       "_view_count": null,
       "_view_module": "@jupyter-widgets/base",
       "_view_module_version": "1.2.0",
       "_view_name": "LayoutView",
       "align_content": null,
       "align_items": null,
       "align_self": null,
       "border": null,
       "bottom": null,
       "display": null,
       "flex": null,
       "flex_flow": null,
       "grid_area": null,
       "grid_auto_columns": null,
       "grid_auto_flow": null,
       "grid_auto_rows": null,
       "grid_column": null,
       "grid_gap": null,
       "grid_row": null,
       "grid_template_areas": null,
       "grid_template_columns": null,
       "grid_template_rows": null,
       "height": null,
       "justify_content": null,
       "justify_items": null,
       "left": null,
       "margin": null,
       "max_height": null,
       "max_width": null,
       "min_height": null,
       "min_width": null,
       "object_fit": null,
       "object_position": null,
       "order": null,
       "overflow": null,
       "overflow_x": null,
       "overflow_y": null,
       "padding": null,
       "right": null,
       "top": null,
       "visibility": null,
       "width": null
      }
     },
     "7fea4d2421e4476f9c228566a84a8388": {
      "model_module": "@jupyter-widgets/controls",
      "model_module_version": "1.5.0",
      "model_name": "IntSliderModel",
      "state": {
       "_dom_classes": [],
       "_model_module": "@jupyter-widgets/controls",
       "_model_module_version": "1.5.0",
       "_model_name": "IntSliderModel",
       "_view_count": null,
       "_view_module": "@jupyter-widgets/controls",
       "_view_module_version": "1.5.0",
       "_view_name": "IntSliderView",
       "continuous_update": true,
       "description": "n:",
       "description_tooltip": null,
       "disabled": false,
       "layout": "IPY_MODEL_b2df02aae3914132998b3b93fe01f5c4",
       "max": 70,
       "min": 1,
       "orientation": "horizontal",
       "readout": true,
       "readout_format": "d",
       "step": 1,
       "style": "IPY_MODEL_2e924173e4914f739590cfcf7f2e067c",
       "value": 1
      }
     },
     "adf7e5c7fff14cfaacfdb02ba724c172": {
      "model_module": "@jupyter-widgets/output",
      "model_module_version": "1.0.0",
      "model_name": "OutputModel",
      "state": {
       "_dom_classes": [],
       "_model_module": "@jupyter-widgets/output",
       "_model_module_version": "1.0.0",
       "_model_name": "OutputModel",
       "_view_count": null,
       "_view_module": "@jupyter-widgets/output",
       "_view_module_version": "1.0.0",
       "_view_name": "OutputView",
       "layout": "IPY_MODEL_7c2f064e44054de596d87994d0cd82d2",
       "msg_id": "",
       "outputs": [
        {
         "data": {
          "image/png": "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",
          "text/plain": "<Figure size 500x500 with 1 Axes>"
         },
         "metadata": {},
         "output_type": "display_data"
        }
       ]
      }
     },
     "b2df02aae3914132998b3b93fe01f5c4": {
      "model_module": "@jupyter-widgets/base",
      "model_module_version": "1.2.0",
      "model_name": "LayoutModel",
      "state": {
       "_model_module": "@jupyter-widgets/base",
       "_model_module_version": "1.2.0",
       "_model_name": "LayoutModel",
       "_view_count": null,
       "_view_module": "@jupyter-widgets/base",
       "_view_module_version": "1.2.0",
       "_view_name": "LayoutView",
       "align_content": null,
       "align_items": null,
       "align_self": null,
       "border": null,
       "bottom": null,
       "display": null,
       "flex": null,
       "flex_flow": null,
       "grid_area": null,
       "grid_auto_columns": null,
       "grid_auto_flow": null,
       "grid_auto_rows": null,
       "grid_column": null,
       "grid_gap": null,
       "grid_row": null,
       "grid_template_areas": null,
       "grid_template_columns": null,
       "grid_template_rows": null,
       "height": null,
       "justify_content": null,
       "justify_items": null,
       "left": null,
       "margin": null,
       "max_height": null,
       "max_width": null,
       "min_height": null,
       "min_width": null,
       "object_fit": null,
       "object_position": null,
       "order": null,
       "overflow": null,
       "overflow_x": null,
       "overflow_y": null,
       "padding": null,
       "right": null,
       "top": null,
       "visibility": null,
       "width": null
      }
     },
     "d2d705f6428f482ea4b6cff70e703cc7": {
      "model_module": "@jupyter-widgets/controls",
      "model_module_version": "1.5.0",
      "model_name": "VBoxModel",
      "state": {
       "_dom_classes": [
        "widget-interact"
       ],
       "_model_module": "@jupyter-widgets/controls",
       "_model_module_version": "1.5.0",
       "_model_name": "VBoxModel",
       "_view_count": null,
       "_view_module": "@jupyter-widgets/controls",
       "_view_module_version": "1.5.0",
       "_view_name": "VBoxView",
       "box_style": "",
       "children": [
        "IPY_MODEL_7fea4d2421e4476f9c228566a84a8388",
        "IPY_MODEL_adf7e5c7fff14cfaacfdb02ba724c172"
       ],
       "layout": "IPY_MODEL_38243ff30f6d4f54a8178ac1695225aa"
      }
     }
    },
    "version_major": 2,
    "version_minor": 0
   }
  }
 },
 "nbformat": 4,
 "nbformat_minor": 5
}