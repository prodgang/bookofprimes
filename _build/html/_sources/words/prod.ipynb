{
 "cells": [
  {
   "cell_type": "markdown",
   "id": "055dcee9",
   "metadata": {},
   "source": [
    "# Productive Numbers\n",
    "What's your favorite prod?\n",
    "\n",
    "\n",
    "\n",
    "Set-up code (ignore)"
   ]
  },
  {
   "cell_type": "code",
   "execution_count": 1,
   "id": "259ce9ff",
   "metadata": {
    "tags": [
     "thebe-init",
     "hide-input",
     "hide-output"
    ]
   },
   "outputs": [
    {
     "name": "stdout",
     "output_type": "stream",
     "text": [
      "Requirement already satisfied: networkx in /opt/anaconda3/envs/jbook/lib/python3.13/site-packages (3.4.2)\r\n",
      "Requirement already satisfied: matplotlib in /opt/anaconda3/envs/jbook/lib/python3.13/site-packages (3.10.0)\r\n",
      "Requirement already satisfied: sympy in /opt/anaconda3/envs/jbook/lib/python3.13/site-packages (1.13.3)\r\n",
      "Requirement already satisfied: contourpy>=1.0.1 in /opt/anaconda3/envs/jbook/lib/python3.13/site-packages (from matplotlib) (1.3.1)\r\n",
      "Requirement already satisfied: cycler>=0.10 in /opt/anaconda3/envs/jbook/lib/python3.13/site-packages (from matplotlib) (0.12.1)\r\n",
      "Requirement already satisfied: fonttools>=4.22.0 in /opt/anaconda3/envs/jbook/lib/python3.13/site-packages (from matplotlib) (4.55.8)\r\n",
      "Requirement already satisfied: kiwisolver>=1.3.1 in /opt/anaconda3/envs/jbook/lib/python3.13/site-packages (from matplotlib) (1.4.8)\r\n",
      "Requirement already satisfied: numpy>=1.23 in /opt/anaconda3/envs/jbook/lib/python3.13/site-packages (from matplotlib) (2.2.2)\r\n",
      "Requirement already satisfied: packaging>=20.0 in /opt/anaconda3/envs/jbook/lib/python3.13/site-packages (from matplotlib) (24.2)\r\n",
      "Requirement already satisfied: pillow>=8 in /opt/anaconda3/envs/jbook/lib/python3.13/site-packages (from matplotlib) (11.1.0)\r\n",
      "Requirement already satisfied: pyparsing>=2.3.1 in /opt/anaconda3/envs/jbook/lib/python3.13/site-packages (from matplotlib) (3.2.1)\r\n",
      "Requirement already satisfied: python-dateutil>=2.7 in /opt/anaconda3/envs/jbook/lib/python3.13/site-packages (from matplotlib) (2.9.0.post0)\r\n",
      "Requirement already satisfied: mpmath<1.4,>=1.1.0 in /opt/anaconda3/envs/jbook/lib/python3.13/site-packages (from sympy) (1.3.0)\r\n"
     ]
    },
    {
     "name": "stdout",
     "output_type": "stream",
     "text": [
      "Requirement already satisfied: six>=1.5 in /opt/anaconda3/envs/jbook/lib/python3.13/site-packages (from python-dateutil>=2.7->matplotlib) (1.17.0)\r\n"
     ]
    },
    {
     "name": "stdout",
     "output_type": "stream",
     "text": [
      "Requirement already satisfied: ipywidgets==7.5.1 in /opt/anaconda3/envs/jbook/lib/python3.13/site-packages (7.5.1)\r\n",
      "Requirement already satisfied: ipython_genutils in /opt/anaconda3/envs/jbook/lib/python3.13/site-packages (0.2.0)\r\n"
     ]
    },
    {
     "name": "stdout",
     "output_type": "stream",
     "text": [
      "Requirement already satisfied: ipykernel>=4.5.1 in /opt/anaconda3/envs/jbook/lib/python3.13/site-packages (from ipywidgets==7.5.1) (6.29.5)\r\n",
      "Requirement already satisfied: traitlets>=4.3.1 in /opt/anaconda3/envs/jbook/lib/python3.13/site-packages (from ipywidgets==7.5.1) (5.14.3)\r\n",
      "Requirement already satisfied: nbformat>=4.2.0 in /opt/anaconda3/envs/jbook/lib/python3.13/site-packages (from ipywidgets==7.5.1) (5.10.4)\r\n",
      "Requirement already satisfied: widgetsnbextension~=3.5.0 in /opt/anaconda3/envs/jbook/lib/python3.13/site-packages (from ipywidgets==7.5.1) (3.5.2)\r\n",
      "Requirement already satisfied: ipython>=4.0.0 in /opt/anaconda3/envs/jbook/lib/python3.13/site-packages (from ipywidgets==7.5.1) (8.32.0)\r\n",
      "Requirement already satisfied: appnope in /opt/anaconda3/envs/jbook/lib/python3.13/site-packages (from ipykernel>=4.5.1->ipywidgets==7.5.1) (0.1.4)\r\n",
      "Requirement already satisfied: comm>=0.1.1 in /opt/anaconda3/envs/jbook/lib/python3.13/site-packages (from ipykernel>=4.5.1->ipywidgets==7.5.1) (0.2.2)\r\n",
      "Requirement already satisfied: debugpy>=1.6.5 in /opt/anaconda3/envs/jbook/lib/python3.13/site-packages (from ipykernel>=4.5.1->ipywidgets==7.5.1) (1.8.12)\r\n",
      "Requirement already satisfied: jupyter-client>=6.1.12 in /opt/anaconda3/envs/jbook/lib/python3.13/site-packages (from ipykernel>=4.5.1->ipywidgets==7.5.1) (8.6.3)\r\n",
      "Requirement already satisfied: jupyter-core!=5.0.*,>=4.12 in /opt/anaconda3/envs/jbook/lib/python3.13/site-packages (from ipykernel>=4.5.1->ipywidgets==7.5.1) (5.7.2)\r\n",
      "Requirement already satisfied: matplotlib-inline>=0.1 in /opt/anaconda3/envs/jbook/lib/python3.13/site-packages (from ipykernel>=4.5.1->ipywidgets==7.5.1) (0.1.7)\r\n",
      "Requirement already satisfied: nest-asyncio in /opt/anaconda3/envs/jbook/lib/python3.13/site-packages (from ipykernel>=4.5.1->ipywidgets==7.5.1) (1.6.0)\r\n",
      "Requirement already satisfied: packaging in /opt/anaconda3/envs/jbook/lib/python3.13/site-packages (from ipykernel>=4.5.1->ipywidgets==7.5.1) (24.2)\r\n",
      "Requirement already satisfied: psutil in /opt/anaconda3/envs/jbook/lib/python3.13/site-packages (from ipykernel>=4.5.1->ipywidgets==7.5.1) (6.1.1)\r\n",
      "Requirement already satisfied: pyzmq>=24 in /opt/anaconda3/envs/jbook/lib/python3.13/site-packages (from ipykernel>=4.5.1->ipywidgets==7.5.1) (26.2.1)\r\n",
      "Requirement already satisfied: tornado>=6.1 in /opt/anaconda3/envs/jbook/lib/python3.13/site-packages (from ipykernel>=4.5.1->ipywidgets==7.5.1) (6.4.2)\r\n",
      "Requirement already satisfied: decorator in /opt/anaconda3/envs/jbook/lib/python3.13/site-packages (from ipython>=4.0.0->ipywidgets==7.5.1) (5.1.1)\r\n",
      "Requirement already satisfied: jedi>=0.16 in /opt/anaconda3/envs/jbook/lib/python3.13/site-packages (from ipython>=4.0.0->ipywidgets==7.5.1) (0.19.2)\r\n",
      "Requirement already satisfied: pexpect>4.3 in /opt/anaconda3/envs/jbook/lib/python3.13/site-packages (from ipython>=4.0.0->ipywidgets==7.5.1) (4.9.0)\r\n",
      "Requirement already satisfied: prompt_toolkit<3.1.0,>=3.0.41 in /opt/anaconda3/envs/jbook/lib/python3.13/site-packages (from ipython>=4.0.0->ipywidgets==7.5.1) (3.0.50)\r\n",
      "Requirement already satisfied: pygments>=2.4.0 in /opt/anaconda3/envs/jbook/lib/python3.13/site-packages (from ipython>=4.0.0->ipywidgets==7.5.1) (2.19.1)\r\n",
      "Requirement already satisfied: stack_data in /opt/anaconda3/envs/jbook/lib/python3.13/site-packages (from ipython>=4.0.0->ipywidgets==7.5.1) (0.6.3)\r\n",
      "Requirement already satisfied: fastjsonschema>=2.15 in /opt/anaconda3/envs/jbook/lib/python3.13/site-packages (from nbformat>=4.2.0->ipywidgets==7.5.1) (2.21.1)\r\n",
      "Requirement already satisfied: jsonschema>=2.6 in /opt/anaconda3/envs/jbook/lib/python3.13/site-packages (from nbformat>=4.2.0->ipywidgets==7.5.1) (4.23.0)\r\n",
      "Requirement already satisfied: notebook>=4.4.1 in /opt/anaconda3/envs/jbook/lib/python3.13/site-packages (from widgetsnbextension~=3.5.0->ipywidgets==7.5.1) (7.3.2)\r\n",
      "Requirement already satisfied: parso<0.9.0,>=0.8.4 in /opt/anaconda3/envs/jbook/lib/python3.13/site-packages (from jedi>=0.16->ipython>=4.0.0->ipywidgets==7.5.1) (0.8.4)\r\n",
      "Requirement already satisfied: attrs>=22.2.0 in /opt/anaconda3/envs/jbook/lib/python3.13/site-packages (from jsonschema>=2.6->nbformat>=4.2.0->ipywidgets==7.5.1) (25.1.0)\r\n",
      "Requirement already satisfied: jsonschema-specifications>=2023.03.6 in /opt/anaconda3/envs/jbook/lib/python3.13/site-packages (from jsonschema>=2.6->nbformat>=4.2.0->ipywidgets==7.5.1) (2024.10.1)\r\n",
      "Requirement already satisfied: referencing>=0.28.4 in /opt/anaconda3/envs/jbook/lib/python3.13/site-packages (from jsonschema>=2.6->nbformat>=4.2.0->ipywidgets==7.5.1) (0.36.2)\r\n",
      "Requirement already satisfied: rpds-py>=0.7.1 in /opt/anaconda3/envs/jbook/lib/python3.13/site-packages (from jsonschema>=2.6->nbformat>=4.2.0->ipywidgets==7.5.1) (0.22.3)\r\n",
      "Requirement already satisfied: python-dateutil>=2.8.2 in /opt/anaconda3/envs/jbook/lib/python3.13/site-packages (from jupyter-client>=6.1.12->ipykernel>=4.5.1->ipywidgets==7.5.1) (2.9.0.post0)\r\n",
      "Requirement already satisfied: platformdirs>=2.5 in /opt/anaconda3/envs/jbook/lib/python3.13/site-packages (from jupyter-core!=5.0.*,>=4.12->ipykernel>=4.5.1->ipywidgets==7.5.1) (4.3.6)\r\n",
      "Requirement already satisfied: jupyter-server<3,>=2.4.0 in /opt/anaconda3/envs/jbook/lib/python3.13/site-packages (from notebook>=4.4.1->widgetsnbextension~=3.5.0->ipywidgets==7.5.1) (2.15.0)\r\n"
     ]
    },
    {
     "name": "stdout",
     "output_type": "stream",
     "text": [
      "Requirement already satisfied: jupyterlab-server<3,>=2.27.1 in /opt/anaconda3/envs/jbook/lib/python3.13/site-packages (from notebook>=4.4.1->widgetsnbextension~=3.5.0->ipywidgets==7.5.1) (2.27.3)\r\n",
      "Requirement already satisfied: jupyterlab<4.4,>=4.3.4 in /opt/anaconda3/envs/jbook/lib/python3.13/site-packages (from notebook>=4.4.1->widgetsnbextension~=3.5.0->ipywidgets==7.5.1) (4.3.5)\r\n",
      "Requirement already satisfied: notebook-shim<0.3,>=0.2 in /opt/anaconda3/envs/jbook/lib/python3.13/site-packages (from notebook>=4.4.1->widgetsnbextension~=3.5.0->ipywidgets==7.5.1) (0.2.4)\r\n",
      "Requirement already satisfied: ptyprocess>=0.5 in /opt/anaconda3/envs/jbook/lib/python3.13/site-packages (from pexpect>4.3->ipython>=4.0.0->ipywidgets==7.5.1) (0.7.0)\r\n",
      "Requirement already satisfied: wcwidth in /opt/anaconda3/envs/jbook/lib/python3.13/site-packages (from prompt_toolkit<3.1.0,>=3.0.41->ipython>=4.0.0->ipywidgets==7.5.1) (0.2.13)\r\n",
      "Requirement already satisfied: executing>=1.2.0 in /opt/anaconda3/envs/jbook/lib/python3.13/site-packages (from stack_data->ipython>=4.0.0->ipywidgets==7.5.1) (2.1.0)\r\n",
      "Requirement already satisfied: asttokens>=2.1.0 in /opt/anaconda3/envs/jbook/lib/python3.13/site-packages (from stack_data->ipython>=4.0.0->ipywidgets==7.5.1) (3.0.0)\r\n",
      "Requirement already satisfied: pure_eval in /opt/anaconda3/envs/jbook/lib/python3.13/site-packages (from stack_data->ipython>=4.0.0->ipywidgets==7.5.1) (0.2.3)\r\n",
      "Requirement already satisfied: anyio>=3.1.0 in /opt/anaconda3/envs/jbook/lib/python3.13/site-packages (from jupyter-server<3,>=2.4.0->notebook>=4.4.1->widgetsnbextension~=3.5.0->ipywidgets==7.5.1) (4.8.0)\r\n",
      "Requirement already satisfied: argon2-cffi>=21.1 in /opt/anaconda3/envs/jbook/lib/python3.13/site-packages (from jupyter-server<3,>=2.4.0->notebook>=4.4.1->widgetsnbextension~=3.5.0->ipywidgets==7.5.1) (23.1.0)\r\n",
      "Requirement already satisfied: jinja2>=3.0.3 in /opt/anaconda3/envs/jbook/lib/python3.13/site-packages (from jupyter-server<3,>=2.4.0->notebook>=4.4.1->widgetsnbextension~=3.5.0->ipywidgets==7.5.1) (3.1.5)\r\n",
      "Requirement already satisfied: jupyter-events>=0.11.0 in /opt/anaconda3/envs/jbook/lib/python3.13/site-packages (from jupyter-server<3,>=2.4.0->notebook>=4.4.1->widgetsnbextension~=3.5.0->ipywidgets==7.5.1) (0.12.0)\r\n",
      "Requirement already satisfied: jupyter-server-terminals>=0.4.4 in /opt/anaconda3/envs/jbook/lib/python3.13/site-packages (from jupyter-server<3,>=2.4.0->notebook>=4.4.1->widgetsnbextension~=3.5.0->ipywidgets==7.5.1) (0.5.3)\r\n",
      "Requirement already satisfied: nbconvert>=6.4.4 in /opt/anaconda3/envs/jbook/lib/python3.13/site-packages (from jupyter-server<3,>=2.4.0->notebook>=4.4.1->widgetsnbextension~=3.5.0->ipywidgets==7.5.1) (7.16.6)\r\n",
      "Requirement already satisfied: overrides>=5.0 in /opt/anaconda3/envs/jbook/lib/python3.13/site-packages (from jupyter-server<3,>=2.4.0->notebook>=4.4.1->widgetsnbextension~=3.5.0->ipywidgets==7.5.1) (7.7.0)\r\n",
      "Requirement already satisfied: prometheus-client>=0.9 in /opt/anaconda3/envs/jbook/lib/python3.13/site-packages (from jupyter-server<3,>=2.4.0->notebook>=4.4.1->widgetsnbextension~=3.5.0->ipywidgets==7.5.1) (0.21.1)\r\n",
      "Requirement already satisfied: send2trash>=1.8.2 in /opt/anaconda3/envs/jbook/lib/python3.13/site-packages (from jupyter-server<3,>=2.4.0->notebook>=4.4.1->widgetsnbextension~=3.5.0->ipywidgets==7.5.1) (1.8.3)\r\n",
      "Requirement already satisfied: terminado>=0.8.3 in /opt/anaconda3/envs/jbook/lib/python3.13/site-packages (from jupyter-server<3,>=2.4.0->notebook>=4.4.1->widgetsnbextension~=3.5.0->ipywidgets==7.5.1) (0.18.1)\r\n",
      "Requirement already satisfied: websocket-client>=1.7 in /opt/anaconda3/envs/jbook/lib/python3.13/site-packages (from jupyter-server<3,>=2.4.0->notebook>=4.4.1->widgetsnbextension~=3.5.0->ipywidgets==7.5.1) (1.8.0)\r\n",
      "Requirement already satisfied: async-lru>=1.0.0 in /opt/anaconda3/envs/jbook/lib/python3.13/site-packages (from jupyterlab<4.4,>=4.3.4->notebook>=4.4.1->widgetsnbextension~=3.5.0->ipywidgets==7.5.1) (2.0.4)\r\n",
      "Requirement already satisfied: httpx>=0.25.0 in /opt/anaconda3/envs/jbook/lib/python3.13/site-packages (from jupyterlab<4.4,>=4.3.4->notebook>=4.4.1->widgetsnbextension~=3.5.0->ipywidgets==7.5.1) (0.28.1)\r\n",
      "Requirement already satisfied: jupyter-lsp>=2.0.0 in /opt/anaconda3/envs/jbook/lib/python3.13/site-packages (from jupyterlab<4.4,>=4.3.4->notebook>=4.4.1->widgetsnbextension~=3.5.0->ipywidgets==7.5.1) (2.2.5)\r\n"
     ]
    },
    {
     "name": "stdout",
     "output_type": "stream",
     "text": [
      "Requirement already satisfied: setuptools>=40.8.0 in /opt/anaconda3/envs/jbook/lib/python3.13/site-packages (from jupyterlab<4.4,>=4.3.4->notebook>=4.4.1->widgetsnbextension~=3.5.0->ipywidgets==7.5.1) (75.8.0)\r\n",
      "Requirement already satisfied: babel>=2.10 in /opt/anaconda3/envs/jbook/lib/python3.13/site-packages (from jupyterlab-server<3,>=2.27.1->notebook>=4.4.1->widgetsnbextension~=3.5.0->ipywidgets==7.5.1) (2.17.0)\r\n",
      "Requirement already satisfied: json5>=0.9.0 in /opt/anaconda3/envs/jbook/lib/python3.13/site-packages (from jupyterlab-server<3,>=2.27.1->notebook>=4.4.1->widgetsnbextension~=3.5.0->ipywidgets==7.5.1) (0.10.0)\r\n",
      "Requirement already satisfied: requests>=2.31 in /opt/anaconda3/envs/jbook/lib/python3.13/site-packages (from jupyterlab-server<3,>=2.27.1->notebook>=4.4.1->widgetsnbextension~=3.5.0->ipywidgets==7.5.1) (2.32.3)\r\n",
      "Requirement already satisfied: six>=1.5 in /opt/anaconda3/envs/jbook/lib/python3.13/site-packages (from python-dateutil>=2.8.2->jupyter-client>=6.1.12->ipykernel>=4.5.1->ipywidgets==7.5.1) (1.17.0)\r\n",
      "Requirement already satisfied: idna>=2.8 in /opt/anaconda3/envs/jbook/lib/python3.13/site-packages (from anyio>=3.1.0->jupyter-server<3,>=2.4.0->notebook>=4.4.1->widgetsnbextension~=3.5.0->ipywidgets==7.5.1) (3.10)\r\n",
      "Requirement already satisfied: sniffio>=1.1 in /opt/anaconda3/envs/jbook/lib/python3.13/site-packages (from anyio>=3.1.0->jupyter-server<3,>=2.4.0->notebook>=4.4.1->widgetsnbextension~=3.5.0->ipywidgets==7.5.1) (1.3.1)\r\n",
      "Requirement already satisfied: argon2-cffi-bindings in /opt/anaconda3/envs/jbook/lib/python3.13/site-packages (from argon2-cffi>=21.1->jupyter-server<3,>=2.4.0->notebook>=4.4.1->widgetsnbextension~=3.5.0->ipywidgets==7.5.1) (21.2.0)\r\n",
      "Requirement already satisfied: certifi in /opt/anaconda3/envs/jbook/lib/python3.13/site-packages (from httpx>=0.25.0->jupyterlab<4.4,>=4.3.4->notebook>=4.4.1->widgetsnbextension~=3.5.0->ipywidgets==7.5.1) (2025.1.31)\r\n",
      "Requirement already satisfied: httpcore==1.* in /opt/anaconda3/envs/jbook/lib/python3.13/site-packages (from httpx>=0.25.0->jupyterlab<4.4,>=4.3.4->notebook>=4.4.1->widgetsnbextension~=3.5.0->ipywidgets==7.5.1) (1.0.7)\r\n",
      "Requirement already satisfied: h11<0.15,>=0.13 in /opt/anaconda3/envs/jbook/lib/python3.13/site-packages (from httpcore==1.*->httpx>=0.25.0->jupyterlab<4.4,>=4.3.4->notebook>=4.4.1->widgetsnbextension~=3.5.0->ipywidgets==7.5.1) (0.14.0)\r\n",
      "Requirement already satisfied: MarkupSafe>=2.0 in /opt/anaconda3/envs/jbook/lib/python3.13/site-packages (from jinja2>=3.0.3->jupyter-server<3,>=2.4.0->notebook>=4.4.1->widgetsnbextension~=3.5.0->ipywidgets==7.5.1) (3.0.2)\r\n"
     ]
    },
    {
     "name": "stdout",
     "output_type": "stream",
     "text": [
      "Requirement already satisfied: python-json-logger>=2.0.4 in /opt/anaconda3/envs/jbook/lib/python3.13/site-packages (from jupyter-events>=0.11.0->jupyter-server<3,>=2.4.0->notebook>=4.4.1->widgetsnbextension~=3.5.0->ipywidgets==7.5.1) (3.2.1)\r\n",
      "Requirement already satisfied: pyyaml>=5.3 in /opt/anaconda3/envs/jbook/lib/python3.13/site-packages (from jupyter-events>=0.11.0->jupyter-server<3,>=2.4.0->notebook>=4.4.1->widgetsnbextension~=3.5.0->ipywidgets==7.5.1) (6.0.2)\r\n",
      "Requirement already satisfied: rfc3339-validator in /opt/anaconda3/envs/jbook/lib/python3.13/site-packages (from jupyter-events>=0.11.0->jupyter-server<3,>=2.4.0->notebook>=4.4.1->widgetsnbextension~=3.5.0->ipywidgets==7.5.1) (0.1.4)\r\n",
      "Requirement already satisfied: rfc3986-validator>=0.1.1 in /opt/anaconda3/envs/jbook/lib/python3.13/site-packages (from jupyter-events>=0.11.0->jupyter-server<3,>=2.4.0->notebook>=4.4.1->widgetsnbextension~=3.5.0->ipywidgets==7.5.1) (0.1.1)\r\n",
      "Requirement already satisfied: beautifulsoup4 in /opt/anaconda3/envs/jbook/lib/python3.13/site-packages (from nbconvert>=6.4.4->jupyter-server<3,>=2.4.0->notebook>=4.4.1->widgetsnbextension~=3.5.0->ipywidgets==7.5.1) (4.13.1)\r\n",
      "Requirement already satisfied: bleach!=5.0.0 in /opt/anaconda3/envs/jbook/lib/python3.13/site-packages (from bleach[css]!=5.0.0->nbconvert>=6.4.4->jupyter-server<3,>=2.4.0->notebook>=4.4.1->widgetsnbextension~=3.5.0->ipywidgets==7.5.1) (6.2.0)\r\n",
      "Requirement already satisfied: defusedxml in /opt/anaconda3/envs/jbook/lib/python3.13/site-packages (from nbconvert>=6.4.4->jupyter-server<3,>=2.4.0->notebook>=4.4.1->widgetsnbextension~=3.5.0->ipywidgets==7.5.1) (0.7.1)\r\n",
      "Requirement already satisfied: jupyterlab-pygments in /opt/anaconda3/envs/jbook/lib/python3.13/site-packages (from nbconvert>=6.4.4->jupyter-server<3,>=2.4.0->notebook>=4.4.1->widgetsnbextension~=3.5.0->ipywidgets==7.5.1) (0.3.0)\r\n",
      "Requirement already satisfied: mistune<4,>=2.0.3 in /opt/anaconda3/envs/jbook/lib/python3.13/site-packages (from nbconvert>=6.4.4->jupyter-server<3,>=2.4.0->notebook>=4.4.1->widgetsnbextension~=3.5.0->ipywidgets==7.5.1) (3.1.1)\r\n",
      "Requirement already satisfied: nbclient>=0.5.0 in /opt/anaconda3/envs/jbook/lib/python3.13/site-packages (from nbconvert>=6.4.4->jupyter-server<3,>=2.4.0->notebook>=4.4.1->widgetsnbextension~=3.5.0->ipywidgets==7.5.1) (0.10.2)\r\n",
      "Requirement already satisfied: pandocfilters>=1.4.1 in /opt/anaconda3/envs/jbook/lib/python3.13/site-packages (from nbconvert>=6.4.4->jupyter-server<3,>=2.4.0->notebook>=4.4.1->widgetsnbextension~=3.5.0->ipywidgets==7.5.1) (1.5.1)\r\n",
      "Requirement already satisfied: charset-normalizer<4,>=2 in /opt/anaconda3/envs/jbook/lib/python3.13/site-packages (from requests>=2.31->jupyterlab-server<3,>=2.27.1->notebook>=4.4.1->widgetsnbextension~=3.5.0->ipywidgets==7.5.1) (3.4.1)\r\n",
      "Requirement already satisfied: urllib3<3,>=1.21.1 in /opt/anaconda3/envs/jbook/lib/python3.13/site-packages (from requests>=2.31->jupyterlab-server<3,>=2.27.1->notebook>=4.4.1->widgetsnbextension~=3.5.0->ipywidgets==7.5.1) (2.3.0)\r\n",
      "Requirement already satisfied: webencodings in /opt/anaconda3/envs/jbook/lib/python3.13/site-packages (from bleach!=5.0.0->bleach[css]!=5.0.0->nbconvert>=6.4.4->jupyter-server<3,>=2.4.0->notebook>=4.4.1->widgetsnbextension~=3.5.0->ipywidgets==7.5.1) (0.5.1)\r\n"
     ]
    },
    {
     "name": "stdout",
     "output_type": "stream",
     "text": [
      "Requirement already satisfied: tinycss2<1.5,>=1.1.0 in /opt/anaconda3/envs/jbook/lib/python3.13/site-packages (from bleach[css]!=5.0.0->nbconvert>=6.4.4->jupyter-server<3,>=2.4.0->notebook>=4.4.1->widgetsnbextension~=3.5.0->ipywidgets==7.5.1) (1.4.0)\r\n",
      "Requirement already satisfied: fqdn in /opt/anaconda3/envs/jbook/lib/python3.13/site-packages (from jsonschema[format-nongpl]>=4.18.0->jupyter-events>=0.11.0->jupyter-server<3,>=2.4.0->notebook>=4.4.1->widgetsnbextension~=3.5.0->ipywidgets==7.5.1) (1.5.1)\r\n",
      "Requirement already satisfied: isoduration in /opt/anaconda3/envs/jbook/lib/python3.13/site-packages (from jsonschema[format-nongpl]>=4.18.0->jupyter-events>=0.11.0->jupyter-server<3,>=2.4.0->notebook>=4.4.1->widgetsnbextension~=3.5.0->ipywidgets==7.5.1) (20.11.0)\r\n",
      "Requirement already satisfied: jsonpointer>1.13 in /opt/anaconda3/envs/jbook/lib/python3.13/site-packages (from jsonschema[format-nongpl]>=4.18.0->jupyter-events>=0.11.0->jupyter-server<3,>=2.4.0->notebook>=4.4.1->widgetsnbextension~=3.5.0->ipywidgets==7.5.1) (3.0.0)\r\n",
      "Requirement already satisfied: uri-template in /opt/anaconda3/envs/jbook/lib/python3.13/site-packages (from jsonschema[format-nongpl]>=4.18.0->jupyter-events>=0.11.0->jupyter-server<3,>=2.4.0->notebook>=4.4.1->widgetsnbextension~=3.5.0->ipywidgets==7.5.1) (1.3.0)\r\n",
      "Requirement already satisfied: webcolors>=24.6.0 in /opt/anaconda3/envs/jbook/lib/python3.13/site-packages (from jsonschema[format-nongpl]>=4.18.0->jupyter-events>=0.11.0->jupyter-server<3,>=2.4.0->notebook>=4.4.1->widgetsnbextension~=3.5.0->ipywidgets==7.5.1) (24.11.1)\r\n",
      "Requirement already satisfied: cffi>=1.0.1 in /opt/anaconda3/envs/jbook/lib/python3.13/site-packages (from argon2-cffi-bindings->argon2-cffi>=21.1->jupyter-server<3,>=2.4.0->notebook>=4.4.1->widgetsnbextension~=3.5.0->ipywidgets==7.5.1) (1.17.1)\r\n",
      "Requirement already satisfied: soupsieve>1.2 in /opt/anaconda3/envs/jbook/lib/python3.13/site-packages (from beautifulsoup4->nbconvert>=6.4.4->jupyter-server<3,>=2.4.0->notebook>=4.4.1->widgetsnbextension~=3.5.0->ipywidgets==7.5.1) (2.6)\r\n",
      "Requirement already satisfied: typing-extensions>=4.0.0 in /opt/anaconda3/envs/jbook/lib/python3.13/site-packages (from beautifulsoup4->nbconvert>=6.4.4->jupyter-server<3,>=2.4.0->notebook>=4.4.1->widgetsnbextension~=3.5.0->ipywidgets==7.5.1) (4.12.2)\r\n"
     ]
    },
    {
     "name": "stdout",
     "output_type": "stream",
     "text": [
      "Requirement already satisfied: pycparser in /opt/anaconda3/envs/jbook/lib/python3.13/site-packages (from cffi>=1.0.1->argon2-cffi-bindings->argon2-cffi>=21.1->jupyter-server<3,>=2.4.0->notebook>=4.4.1->widgetsnbextension~=3.5.0->ipywidgets==7.5.1) (2.22)\r\n",
      "Requirement already satisfied: arrow>=0.15.0 in /opt/anaconda3/envs/jbook/lib/python3.13/site-packages (from isoduration->jsonschema[format-nongpl]>=4.18.0->jupyter-events>=0.11.0->jupyter-server<3,>=2.4.0->notebook>=4.4.1->widgetsnbextension~=3.5.0->ipywidgets==7.5.1) (1.3.0)\r\n",
      "Requirement already satisfied: types-python-dateutil>=2.8.10 in /opt/anaconda3/envs/jbook/lib/python3.13/site-packages (from arrow>=0.15.0->isoduration->jsonschema[format-nongpl]>=4.18.0->jupyter-events>=0.11.0->jupyter-server<3,>=2.4.0->notebook>=4.4.1->widgetsnbextension~=3.5.0->ipywidgets==7.5.1) (2.9.0.20241206)\r\n"
     ]
    }
   ],
   "source": [
    "!pip install networkx matplotlib sympy \n",
    "! pip install ipywidgets==7.5.1 ipython_genutils"
   ]
  },
  {
   "cell_type": "code",
   "execution_count": 2,
   "id": "3a88c3c2",
   "metadata": {
    "tags": [
     "thebe-init",
     "hide-input"
    ]
   },
   "outputs": [],
   "source": [
    "import matplotlib.pyplot as plt\n",
    "import networkx as nx\n",
    "import ipywidgets as widgets\n",
    "import matplotlib.pyplot as plt\n",
    "from IPython.display import display, clear_output\n",
    "import sympy\n",
    "from sympy.ntheory import factorint\n",
    "primes = list(sympy.primerange(1, 100))\n",
    "\n",
    "def draw_white_dot(G, pos, ax=None):\n",
    "    node_label = len(G.nodes) + 1\n",
    "    G.add_node(0, pos=(pos[0], pos[1]))\n",
    "    nx.draw_networkx_nodes(G, {0:pos}, nodelist=[0], node_color='white', node_size=500, edgecolors='black', ax=ax)\n",
    "    return node_label\n",
    "\n",
    "def draw_black_dot(G, pos, ax=None):\n",
    "    node_label = len(G.nodes) + 1\n",
    "    G.add_node(node_label, pos=(pos[0], pos[1]))\n",
    "    nx.draw_networkx_nodes(G, {node_label:pos}, nodelist=[node_label], node_color='black', node_size=500, ax=ax)\n",
    "    return node_label\n",
    "\n",
    "def draw_tree(G, tree, pos=None, root_pos=(0, 0), ax=None):\n",
    "    if pos is None:\n",
    "        pos = {}\n",
    "    \n",
    "    if tree == 0:\n",
    "        label = draw_white_dot(G, root_pos, ax=ax)\n",
    "        pos[label] = root_pos\n",
    "        return label\n",
    "\n",
    "    n = len(tree)\n",
    "    root_pos = (root_pos[0] + n//2, root_pos[1])\n",
    "    root_label = draw_black_dot(G, root_pos,ax=ax)\n",
    "    pos[root_label] = root_pos\n",
    "    \n",
    "    for i, child in enumerate(tree):\n",
    "        j = i - n//2\n",
    "        child_label = draw_tree(G, child, pos=pos, root_pos=(root_pos[0] + j, root_pos[1]-1), ax=ax)\n",
    "        nx.draw_networkx_edges(G, pos, edgelist=[(root_label, child_label)],ax=ax)\n",
    "\n",
    "\n",
    "    return root_label\n",
    "\n",
    "def d_to_p(x):\n",
    "    if x == 0: return 0\n",
    "    if x == 1: return ()\n",
    "    \n",
    "    factors = factorint(x)\n",
    "    \n",
    "    # bit clunky. Could be improved if [] is infinitely long behind the scenes but always gets printed as short as possible\n",
    "    max_prime = max(factors.keys())\n",
    "    mp_index = primes.index(max_prime)\n",
    "    y = [0] * (mp_index + 1)\n",
    "    \n",
    "    # key recursive step\n",
    "    for p, e in factors.items():\n",
    "        i = primes.index(p)\n",
    "        y[i] = d_to_p(e)\n",
    "    \n",
    "    return tuple(y)\n",
    "\n",
    "def d2tree(x, ax=None):\n",
    "    G = nx.Graph()\n",
    "    draw_tree(G, d_to_p(x), ax=ax)\n",
    "\n",
    "def update_plot(n):\n",
    "    #print(\"updated to \", n)\n",
    "    \n",
    "    clear_output(wait=True)\n",
    "\n",
    "    fig, ax = plt.subplots(figsize=(5, 5))\n",
    "    d2tree(n, ax=ax)\n",
    "    plt.show()"
   ]
  },
  {
   "cell_type": "code",
   "execution_count": 3,
   "id": "4115dffe",
   "metadata": {
    "tags": [
     "thebe-init"
    ]
   },
   "outputs": [
    {
     "data": {
      "application/vnd.jupyter.widget-view+json": {
       "model_id": "e90af9c8c9424bb89e0d62af87350e1f",
       "version_major": 2,
       "version_minor": 0
      },
      "text/plain": [
       "interactive(children=(IntSlider(value=5, description='n:', max=50, min=1), Output()), _dom_classes=('widget-in…"
      ]
     },
     "metadata": {},
     "output_type": "display_data"
    }
   ],
   "source": [
    "slider = widgets.IntSlider(value=5, min=1, max=50, step=1, description=\"n:\")\n",
    "display(widgets.interactive(update_plot, n=slider))"
   ]
  }
 ],
 "metadata": {
  "jupytext": {
   "text_representation": {
    "extension": ".md",
    "format_name": "myst"
   }
  },
  "kernelspec": {
   "display_name": "Python 3",
   "language": "python",
   "name": "python3"
  },
  "language_info": {
   "codemirror_mode": {
    "name": "ipython",
    "version": 3
   },
   "file_extension": ".py",
   "mimetype": "text/x-python",
   "name": "python",
   "nbconvert_exporter": "python",
   "pygments_lexer": "ipython3",
   "version": "3.13.1"
  },
  "source_map": [
   10,
   20,
   26,
   105
  ],
  "widgets": {
   "application/vnd.jupyter.widget-state+json": {
    "state": {
     "075777941daf4785ab51413480cb8eb5": {
      "model_module": "@jupyter-widgets/base",
      "model_module_version": "1.2.0",
      "model_name": "LayoutModel",
      "state": {
       "_model_module": "@jupyter-widgets/base",
       "_model_module_version": "1.2.0",
       "_model_name": "LayoutModel",
       "_view_count": null,
       "_view_module": "@jupyter-widgets/base",
       "_view_module_version": "1.2.0",
       "_view_name": "LayoutView",
       "align_content": null,
       "align_items": null,
       "align_self": null,
       "border": null,
       "bottom": null,
       "display": null,
       "flex": null,
       "flex_flow": null,
       "grid_area": null,
       "grid_auto_columns": null,
       "grid_auto_flow": null,
       "grid_auto_rows": null,
       "grid_column": null,
       "grid_gap": null,
       "grid_row": null,
       "grid_template_areas": null,
       "grid_template_columns": null,
       "grid_template_rows": null,
       "height": null,
       "justify_content": null,
       "justify_items": null,
       "left": null,
       "margin": null,
       "max_height": null,
       "max_width": null,
       "min_height": null,
       "min_width": null,
       "object_fit": null,
       "object_position": null,
       "order": null,
       "overflow": null,
       "overflow_x": null,
       "overflow_y": null,
       "padding": null,
       "right": null,
       "top": null,
       "visibility": null,
       "width": null
      }
     },
     "39310b2e08334a748baa9bab23fd48a8": {
      "model_module": "@jupyter-widgets/base",
      "model_module_version": "1.2.0",
      "model_name": "LayoutModel",
      "state": {
       "_model_module": "@jupyter-widgets/base",
       "_model_module_version": "1.2.0",
       "_model_name": "LayoutModel",
       "_view_count": null,
       "_view_module": "@jupyter-widgets/base",
       "_view_module_version": "1.2.0",
       "_view_name": "LayoutView",
       "align_content": null,
       "align_items": null,
       "align_self": null,
       "border": null,
       "bottom": null,
       "display": null,
       "flex": null,
       "flex_flow": null,
       "grid_area": null,
       "grid_auto_columns": null,
       "grid_auto_flow": null,
       "grid_auto_rows": null,
       "grid_column": null,
       "grid_gap": null,
       "grid_row": null,
       "grid_template_areas": null,
       "grid_template_columns": null,
       "grid_template_rows": null,
       "height": null,
       "justify_content": null,
       "justify_items": null,
       "left": null,
       "margin": null,
       "max_height": null,
       "max_width": null,
       "min_height": null,
       "min_width": null,
       "object_fit": null,
       "object_position": null,
       "order": null,
       "overflow": null,
       "overflow_x": null,
       "overflow_y": null,
       "padding": null,
       "right": null,
       "top": null,
       "visibility": null,
       "width": null
      }
     },
     "57aceb87e80447e9b4216c1cf263c8b1": {
      "model_module": "@jupyter-widgets/controls",
      "model_module_version": "1.5.0",
      "model_name": "SliderStyleModel",
      "state": {
       "_model_module": "@jupyter-widgets/controls",
       "_model_module_version": "1.5.0",
       "_model_name": "SliderStyleModel",
       "_view_count": null,
       "_view_module": "@jupyter-widgets/base",
       "_view_module_version": "1.2.0",
       "_view_name": "StyleView",
       "description_width": "",
       "handle_color": null
      }
     },
     "cddb4385878e4aaeaabecdf1d0cb940d": {
      "model_module": "@jupyter-widgets/controls",
      "model_module_version": "1.5.0",
      "model_name": "IntSliderModel",
      "state": {
       "_dom_classes": [],
       "_model_module": "@jupyter-widgets/controls",
       "_model_module_version": "1.5.0",
       "_model_name": "IntSliderModel",
       "_view_count": null,
       "_view_module": "@jupyter-widgets/controls",
       "_view_module_version": "1.5.0",
       "_view_name": "IntSliderView",
       "continuous_update": true,
       "description": "n:",
       "description_tooltip": null,
       "disabled": false,
       "layout": "IPY_MODEL_39310b2e08334a748baa9bab23fd48a8",
       "max": 50,
       "min": 1,
       "orientation": "horizontal",
       "readout": true,
       "readout_format": "d",
       "step": 1,
       "style": "IPY_MODEL_57aceb87e80447e9b4216c1cf263c8b1",
       "value": 5
      }
     },
     "d5dadcfccd1c459e89f514276207e1a3": {
      "model_module": "@jupyter-widgets/base",
      "model_module_version": "1.2.0",
      "model_name": "LayoutModel",
      "state": {
       "_model_module": "@jupyter-widgets/base",
       "_model_module_version": "1.2.0",
       "_model_name": "LayoutModel",
       "_view_count": null,
       "_view_module": "@jupyter-widgets/base",
       "_view_module_version": "1.2.0",
       "_view_name": "LayoutView",
       "align_content": null,
       "align_items": null,
       "align_self": null,
       "border": null,
       "bottom": null,
       "display": null,
       "flex": null,
       "flex_flow": null,
       "grid_area": null,
       "grid_auto_columns": null,
       "grid_auto_flow": null,
       "grid_auto_rows": null,
       "grid_column": null,
       "grid_gap": null,
       "grid_row": null,
       "grid_template_areas": null,
       "grid_template_columns": null,
       "grid_template_rows": null,
       "height": null,
       "justify_content": null,
       "justify_items": null,
       "left": null,
       "margin": null,
       "max_height": null,
       "max_width": null,
       "min_height": null,
       "min_width": null,
       "object_fit": null,
       "object_position": null,
       "order": null,
       "overflow": null,
       "overflow_x": null,
       "overflow_y": null,
       "padding": null,
       "right": null,
       "top": null,
       "visibility": null,
       "width": null
      }
     },
     "e90af9c8c9424bb89e0d62af87350e1f": {
      "model_module": "@jupyter-widgets/controls",
      "model_module_version": "1.5.0",
      "model_name": "VBoxModel",
      "state": {
       "_dom_classes": [
        "widget-interact"
       ],
       "_model_module": "@jupyter-widgets/controls",
       "_model_module_version": "1.5.0",
       "_model_name": "VBoxModel",
       "_view_count": null,
       "_view_module": "@jupyter-widgets/controls",
       "_view_module_version": "1.5.0",
       "_view_name": "VBoxView",
       "box_style": "",
       "children": [
        "IPY_MODEL_cddb4385878e4aaeaabecdf1d0cb940d",
        "IPY_MODEL_fa905e75f6684a88ab6cc2f736f71610"
       ],
       "layout": "IPY_MODEL_075777941daf4785ab51413480cb8eb5"
      }
     },
     "fa905e75f6684a88ab6cc2f736f71610": {
      "model_module": "@jupyter-widgets/output",
      "model_module_version": "1.0.0",
      "model_name": "OutputModel",
      "state": {
       "_dom_classes": [],
       "_model_module": "@jupyter-widgets/output",
       "_model_module_version": "1.0.0",
       "_model_name": "OutputModel",
       "_view_count": null,
       "_view_module": "@jupyter-widgets/output",
       "_view_module_version": "1.0.0",
       "_view_name": "OutputView",
       "layout": "IPY_MODEL_d5dadcfccd1c459e89f514276207e1a3",
       "msg_id": "",
       "outputs": [
        {
         "data": {
          "image/png": "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",
          "text/plain": "<Figure size 500x500 with 1 Axes>"
         },
         "metadata": {},
         "output_type": "display_data"
        }
       ]
      }
     }
    },
    "version_major": 2,
    "version_minor": 0
   }
  }
 },
 "nbformat": 4,
 "nbformat_minor": 5
}